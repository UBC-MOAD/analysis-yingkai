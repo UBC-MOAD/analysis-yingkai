{
 "cells": [
  {
   "cell_type": "markdown",
   "metadata": {},
   "source": [
    "# Update IPython notebook "
   ]
  },
  {
   "cell_type": "markdown",
   "metadata": {},
   "source": [
    "```bash\n",
    "conda update conda\n",
    "conda update ipython ipython-notebook ipython-qtconsole\n",
    "```\n",
    "If you want things back:\n",
    "```bash\n",
    "ipython nbconvert --to=notebook --nbformat=3 *.ipynb\n",
    "```"
   ]
  },
  {
   "cell_type": "markdown",
   "metadata": {},
   "source": [
    "# Create Python 3.4 environment"
   ]
  },
  {
   "cell_type": "markdown",
   "metadata": {},
   "source": [
    "```bash\n",
    "conda create -n py34 python=3.4 anaconda\n",
    "```\n",
    "Then type `activate py34`, Anaconda will switch to Python 3.4.\n",
    "\n",
    "For installing new modules in Python 3.4, type:\n",
    "```bash\n",
    "conda install\n",
    "```\n",
    "Anaconda will fetch 3.4 packages."
   ]
  },
  {
   "cell_type": "markdown",
   "metadata": {},
   "source": [
    "# Python packages not in the anaconda file channel"
   ]
  },
  {
   "cell_type": "markdown",
   "metadata": {},
   "source": [
    "For packages not included in conda's file channel, Windows people have:\n",
    "\n",
    "http://www.lfd.uci.edu/~gohlke/pythonlibs/"
   ]
  },
  {
   "cell_type": "markdown",
   "metadata": {},
   "source": [
    "# Work with \\*.whl files\n",
    "```bash\n",
    "pip install wheel\n",
    "pip install name_package.whl\n",
    "```"
   ]
  },
  {
   "cell_type": "markdown",
   "metadata": {
    "collapsed": true
   },
   "source": [
    "# Markdown guide"
   ]
  },
  {
   "cell_type": "markdown",
   "metadata": {},
   "source": [
    "http://assemble.io/docs/Cheatsheet-Markdown.html"
   ]
  },
  {
   "cell_type": "markdown",
   "metadata": {},
   "source": [
    "# IPython notebook extensions"
   ]
  },
  {
   "cell_type": "markdown",
   "metadata": {},
   "source": [
    "+ Update the IPython Notebook to the latest version.\n",
    "+ `pip install https://github.com/ipython-contrib/IPython-notebook-extensions/archive/master.zip`\n",
    "+ Restart IPython Notebook, go to `localhost:8888/nbextensions/`\n",
    "+ Switch your prefered extention on (default is all off). "
   ]
  },
  {
   "cell_type": "markdown",
   "metadata": {},
   "source": [
    "# Code cell toggle in nbviewer"
   ]
  },
  {
   "cell_type": "markdown",
   "metadata": {},
   "source": [
    "Create a code cell and run the following (find it somewhere in stakoverflow)\n",
    "```python\n",
    "from IPython.display import HTML\n",
    "HTML('''<script>\n",
    "code_show=true; \n",
    "function code_toggle() {\n",
    " if (code_show){\n",
    " $('div.input').hide();\n",
    " } else {\n",
    " $('div.input').show();\n",
    " }\n",
    " code_show = !code_show\n",
    "} \n",
    "$( document ).ready(code_toggle);\n",
    "</script>\n",
    "<form action=\"javascript:code_toggle()\"><input type=\"submit\" value=\"Click here to toggle on/off the raw code.\"></form>''')\n",
    "```"
   ]
  },
  {
   "cell_type": "markdown",
   "metadata": {},
   "source": [
    "# PyNGL & PyNIO"
   ]
  },
  {
   "cell_type": "markdown",
   "metadata": {},
   "source": [
    "* PyNGL: The Python version of the graphic component of NCAR Command Language (NCL)\n",
    "https://www.pyngl.ucar.edu/\n",
    "* PyNIO: The Python version of the data I/O component of NCL\n",
    "https://www.pyngl.ucar.edu/Nio.shtml\n",
    "* More about NCL : http://www.ncl.ucar.edu/\n",
    "\n",
    "Installing PyNGL:\n",
    "\n",
    "* Install NCL first\n",
    "* Download PyNGL precompiled binaries, chose debian, and the one matches the local gcc and numpy versions.\n",
    "* Unpack *.gz file to anaconda/lib/python2.7/site-packages/\n",
    "* Add \"PYNGL_NCARG\" to \"NCARG_ROOT\"\n",
    "\n",
    "```bash\n",
    "# NCL path\n",
    "export NCARG_ROOT=/ocean/yingkai/NCL\n",
    "export PATH=$NCARG_ROOT/bin:$PATH\n",
    "\n",
    "# PyNGL path\n",
    "export PYNGL_NCARG=/ocean/yingkai/NCL\n",
    "export PATH=$PYNGL_NCARG/bin:$PATH\n",
    "```\n",
    "Test:\n",
    "\n",
    "```python\n",
    "import Ngl\n",
    "```"
   ]
  },
  {
   "cell_type": "markdown",
   "metadata": {},
   "source": [
    "# IPyNCL"
   ]
  },
  {
   "cell_type": "markdown",
   "metadata": {},
   "source": [
    "\"git clone\" the repo https://github.com/suvarchal/IPyNCL and run \"setup.py\""
   ]
  },
  {
   "cell_type": "code",
   "execution_count": null,
   "metadata": {
    "collapsed": true
   },
   "outputs": [],
   "source": []
  }
 ],
 "metadata": {
  "hide_input": false,
  "kernelspec": {
   "display_name": "Python 2",
   "language": "python",
   "name": "python2"
  },
  "language_info": {
   "codemirror_mode": {
    "name": "ipython",
    "version": 2
   },
   "file_extension": ".py",
   "mimetype": "text/x-python",
   "name": "python",
   "nbconvert_exporter": "python",
   "pygments_lexer": "ipython2",
   "version": "2.7.12"
  },
  "latex_envs": {
   "bibliofile": "biblio.bib",
   "cite_by": "apalike",
   "current_citInitial": 1,
   "eqLabelWithNumbers": true,
   "eqNumInitial": 0
  },
  "nav_menu": {},
  "toc": {
   "navigate_menu": true,
   "number_sections": true,
   "sideBar": true,
   "threshold": 6,
   "toc_cell": false,
   "toc_section_display": "block",
   "toc_window_display": false
  }
 },
 "nbformat": 4,
 "nbformat_minor": 0
}
