{
 "metadata": {
  "name": "",
  "signature": "sha256:76b5d494accdc56dc733154317bcfa979607fb929c57a2fe4e73308ee9d6884a"
 },
 "nbformat": 3,
 "nbformat_minor": 0,
 "worksheets": [
  {
   "cells": [
    {
     "cell_type": "code",
     "collapsed": false,
     "input": [
      "import matplotlib.pyplot as plt\n",
      "import netCDF4 as nc\n",
      "import numpy as np\n",
      "%matplotlib inline"
     ],
     "language": "python",
     "metadata": {},
     "outputs": [],
     "prompt_number": 1
    },
    {
     "cell_type": "code",
     "collapsed": false,
     "input": [
      "grid = nc.Dataset('../../MyTrcGyreLobster/EXP00/GYRE_5d_00010101_00011230_grid_T.nc','r')"
     ],
     "language": "python",
     "metadata": {},
     "outputs": [],
     "prompt_number": 4
    },
    {
     "cell_type": "code",
     "collapsed": false,
     "input": [
      "print grid.variables.keys()"
     ],
     "language": "python",
     "metadata": {},
     "outputs": [
      {
       "output_type": "stream",
       "stream": "stdout",
       "text": [
        "[u'nav_lon', u'nav_lat', u'deptht', u'time_counter', u'time_counter_bnds', u'votemper', u'vosaline', u'sosstsst', u'sosaline', u'sossheig', u'sowaflup', u'soshfldo', u'sowaflcd', u'sohefldo', u'somxl010', u'somixhgt', u'sowindsp', u'sohefldp', u'sowafldp', u'sobowlin', u'sothedep', u'so20chgt', u'so28chgt', u'sohtc300']\n"
       ]
      }
     ],
     "prompt_number": 6
    },
    {
     "cell_type": "code",
     "collapsed": false,
     "input": [
      "lat = grid.variables['nav_lat']\n",
      "lon = grid.variables['nav_lon']\n",
      "print lat.shape\n",
      "xmax = lat.shape[1]\n",
      "ymax = lat.shape[0]"
     ],
     "language": "python",
     "metadata": {},
     "outputs": [
      {
       "output_type": "stream",
       "stream": "stdout",
       "text": [
        "(22, 32)\n"
       ]
      }
     ],
     "prompt_number": 11
    },
    {
     "cell_type": "code",
     "collapsed": false,
     "input": [
      "nemo = nc.Dataset('Ba_Susan.nc', 'w')\n",
      "nemo.description = 'Barium Concentrations for Gyre' \n",
      "\n",
      "# dimensions\n",
      "nemo.createDimension('x', xmax)\n",
      "nemo.createDimension('y', ymax)\n",
      "nemo.createDimension('time_counter', None)\n",
      "\n",
      "# variables\n",
      "# latitude and longitude\n",
      "nav_lat = nemo.createVariable('nav_lat','float32',('y','x'),zlib=True)\n",
      "nav_lat = lat\n",
      "x = nemo.createVariable('nav_lon','float32',('y','x'),zlib=True)\n",
      "nav_lon = lon\n",
      "# time\n",
      "time_counter = nemo.createVariable('time_counter', 'float32', ('time_counter'),zlib=True)\n",
      "time_counter.units = 'non-dim'\n",
      "time_counter[0] = 1\n",
      "# runoff\n",
      "Ba = nemo.createVariable('Ba', 'float32', ('time_counter','y','x'), zlib=True)\n",
      "Ba._Fillvalue = 0.\n",
      "Ba._missing_value = 0.\n",
      "Ba._units = 'arbitrary'\n",
      "Ba[0,:] = 0.\n",
      "Ba[0,0:20,0:20] = 1.\n",
      "nemo.close()"
     ],
     "language": "python",
     "metadata": {},
     "outputs": [],
     "prompt_number": 14
    },
    {
     "cell_type": "code",
     "collapsed": false,
     "input": [
      "nemo.close()"
     ],
     "language": "python",
     "metadata": {},
     "outputs": [],
     "prompt_number": 13
    },
    {
     "cell_type": "code",
     "collapsed": false,
     "input": [],
     "language": "python",
     "metadata": {},
     "outputs": []
    }
   ],
   "metadata": {}
  }
 ]
}