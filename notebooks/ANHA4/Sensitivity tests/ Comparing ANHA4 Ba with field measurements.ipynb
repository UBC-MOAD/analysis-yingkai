{
 "cells": [
  {
   "cell_type": "markdown",
   "metadata": {},
   "source": [
    "# Comparing ANHA4 Ba with Field Measurements"
   ]
  },
  {
   "cell_type": "markdown",
   "metadata": {},
   "source": [
    "------------------\n",
    "\n",
    "**Field measurements**:\n",
    "* GEOTRACES Int. Polar Year cruise 11 (GIPY11) \n",
    "* Beaufort Gyre Exploration Proj. (BGEP) 2003-2005\n",
    "* North Pole Expedition Observartory (NPEO) 2000-2008 ----- 2004-2008 not applied in the intial field estimation\n",
    "* R/V Healy Cruise (HLY-03-01) North Atlantic branch\n",
    "* UMD Chesapeake Bio. Lab. (CBL) cruise 32P\n",
    "\n",
    "-----------------\n",
    "\n",
    "**Regions covered**:\n",
    "* Beaufort Sea\n",
    "* Chukchi Sea\n",
    "* Eurasian Basin\n",
    "* Central Arctic (from Alpha Ridge to Nansen Basin)\n",
    "* Baffin Bay, Nares Strait\n",
    "\n",
    "-----------------\n",
    "\n",
    "**Sample selection stratiges**\n",
    "* If the quality control is perecentage, then Ba, d18O, salinity all < 10%.\n",
    "    * If the sample only has Ba or d18O, then QC should < 5%\n",
    "* If the QC is rank, then get the first two (e.g. A, B)."
   ]
  },
  {
   "cell_type": "markdown",
   "metadata": {},
   "source": [
    "# Dissolved Barium"
   ]
  },
  {
   "cell_type": "markdown",
   "metadata": {},
   "source": [
    "## Comparing vertical profiles"
   ]
  },
  {
   "cell_type": "markdown",
   "metadata": {},
   "source": [
    "-----------------\n",
    "\n",
    "** Steps **:\n",
    "* Match the date: usually model = year-mon, obs=year-mon-date\n",
    "* Match lon/lat: nearest neighbor search\n",
    "    * Lat/Lon dependent (not real distance), may have a problem when cross the north pole.\n",
    "    * Behave well in ANHA4's fine mesh.\n",
    "* Match depth: Sample profiles linearly interpolated to ANHA4 grid-T depth.\n",
    "    * If the vertical distance of two points > 500m, set NaN for all points between.\n",
    "* Porfiles and correspond model output are averaged by regions and time\n",
    "\n",
    "-------------------\n",
    "\n",
    "**Normalized Root Mean Square Division (NRMSD)** is used as a indicator for Ba.\n",
    "\n",
    "$$\n",
    "NRMSD = \\frac{1}{n\\cdot\\overline{\\theta}}\\sqrt{E((\\hat{\\theta} - \\theta)^2)}\n",
    "$$\n",
    "\n",
    "Here $\\hat{\\theta}$ is model output, $\\theta$ is ovservation, $n$ is number of observation points. The unit is precent. \n",
    "\n",
    "(For d18O, it is **Root Mean Square Division**)."
   ]
  },
  {
   "cell_type": "markdown",
   "metadata": {},
   "source": [
    "### Beaufort Sea and Chukchi Sea\n",
    "\n",
    "-----------------------"
   ]
  },
  {
   "cell_type": "markdown",
   "metadata": {
    "collapsed": true
   },
   "source": [
    "<figure>\n",
    "  <img src=\"../../_publish/dmc/Barium/dmc_BG_CK.png\" width=500 align='left'/>\n",
    "  <img src=\"../../_publish/dmc/Barium/dmc_BG_CK_map.png\" width=350 align='left'/>\n",
    "</figure>"
   ]
  },
  {
   "cell_type": "markdown",
   "metadata": {},
   "source": [
    "<img src=\"../../_publish/dmc/Barium/dmc_BG_timeseries.png\" width=500 align='left'/>"
   ]
  },
  {
   "cell_type": "markdown",
   "metadata": {},
   "source": [
    "### Eurasian Basin and Central Arctic\n",
    "\n",
    "-----------------------------------"
   ]
  },
  {
   "cell_type": "markdown",
   "metadata": {
    "collapsed": true
   },
   "source": [
    "<figure>\n",
    "  <img src=\"../../_publish/dmc/Barium/dmc_EU_CA.png\" width=500 align='left'/>\n",
    "  <img src=\"../../_publish/dmc/Barium/dmc_EU_CA_map.png\" width=350 align='left'/>\n",
    "</figure>"
   ]
  },
  {
   "cell_type": "markdown",
   "metadata": {},
   "source": [
    "<img src=\"../../_publish/dmc/Barium/dmc_CA_timeseries.png\" width=500 align='left'/>"
   ]
  },
  {
   "cell_type": "markdown",
   "metadata": {},
   "source": [
    "### Nare Strait and Baffin Bay\n",
    "\n",
    "------------------------------------------------"
   ]
  },
  {
   "cell_type": "markdown",
   "metadata": {},
   "source": [
    "<figure>\n",
    "  <img src=\"../../_publish/dmc/Barium/dmc_NS_BF.png\" width=500 align='left'/>\n",
    "  <img src=\"../../_publish/dmc/Barium/dmc_NS_BF_map.png\" width=350 align='left'/>\n",
    "</figure>"
   ]
  },
  {
   "cell_type": "markdown",
   "metadata": {
    "collapsed": true
   },
   "source": [
    "# Oxygen isotope ratio"
   ]
  },
  {
   "cell_type": "markdown",
   "metadata": {},
   "source": [
    "## Comparing vertical profiles"
   ]
  },
  {
   "cell_type": "markdown",
   "metadata": {},
   "source": [
    "Steps are the same as Ba\n",
    "\n",
    "-------------------------\n",
    "\n",
    "**Root Mean Square Division (RMSD)** is used as a indicator for Ba.\n",
    "\n",
    "$$\n",
    "RMSD = \\frac{1}{n}\\sqrt{E((\\hat{\\theta} - \\theta)^2)}\n",
    "$$\n",
    "\n",
    "The reason for using RMSD is: the mean of d18O could be close to 0.  "
   ]
  },
  {
   "cell_type": "markdown",
   "metadata": {},
   "source": [
    "### Beaufort Sea and Chukchi Sea\n",
    "\n",
    "-----------------------"
   ]
  },
  {
   "cell_type": "markdown",
   "metadata": {},
   "source": [
    "<figure>\n",
    "  <img src=\"../../_publish/dmc/d18O/dmc_BG_CK.png\" width=500 align='left'/>\n",
    "  <img src=\"../../_publish/dmc/d18O/dmc_BG_CK_map.png\" width=350 align='left'/>\n",
    "</figure>"
   ]
  },
  {
   "cell_type": "markdown",
   "metadata": {},
   "source": [
    "<img src=\"../../_publish/dmc/d18O/dmc_BG_timeseries.png\" width=500 align='left'/>"
   ]
  },
  {
   "cell_type": "markdown",
   "metadata": {},
   "source": [
    "### Eurasian Basin and Central Arctic\n",
    "\n",
    "-----------------------"
   ]
  },
  {
   "cell_type": "markdown",
   "metadata": {},
   "source": [
    "<figure>\n",
    "  <img src=\"../../_publish/dmc/d18O/dmc_EU_CA.png\" width=500 align='left'/>\n",
    "  <img src=\"../../_publish/dmc/d18O/dmc_EU_CA_map.png\" width=350 align='left'/>\n",
    "</figure>"
   ]
  },
  {
   "cell_type": "markdown",
   "metadata": {},
   "source": [
    "<img src=\"../../_publish/dmc/d18O/dmc_CA_timeseries.png\" width=500 align='left'/>"
   ]
  },
  {
   "cell_type": "markdown",
   "metadata": {},
   "source": [
    "### Nare Strait and Baffin Bay\n",
    "\n",
    "------------------------------------------------"
   ]
  },
  {
   "cell_type": "markdown",
   "metadata": {},
   "source": [
    "<figure>\n",
    "  <img src=\"../../_publish/dmc/d18O/dmc_NS_BF.png\" width=500 align='left'/>\n",
    "  <img src=\"../../_publish/dmc/d18O/dmc_NS_BF_map.png\" width=350 align='left'/>\n",
    "</figure>"
   ]
  },
  {
   "cell_type": "code",
   "execution_count": null,
   "metadata": {
    "collapsed": true
   },
   "outputs": [],
   "source": []
  }
 ],
 "metadata": {
  "kernelspec": {
   "display_name": "Python 2",
   "language": "python",
   "name": "python2"
  },
  "language_info": {
   "codemirror_mode": {
    "name": "ipython",
    "version": 2
   },
   "file_extension": ".py",
   "mimetype": "text/x-python",
   "name": "python",
   "nbconvert_exporter": "python",
   "pygments_lexer": "ipython2",
   "version": "2.7.12"
  }
 },
 "nbformat": 4,
 "nbformat_minor": 0
}
