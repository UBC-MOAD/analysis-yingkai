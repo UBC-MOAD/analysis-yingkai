{
 "cells": [
  {
   "cell_type": "markdown",
   "metadata": {},
   "source": [
    "#File truncation test"
   ]
  },
  {
   "cell_type": "markdown",
   "metadata": {},
   "source": [
    "This is a notebook that I used to test my file truncation code. I was think about cut NEMO output files in several parts before other operations to avoiding memory problem.\n",
    "\n",
    "Actually people can use `ncea -F -d time_counter 1,12 in.nc out.nc` to do this. So this notebook is not gonna use. "
   ]
  },
  {
   "cell_type": "code",
   "execution_count": 1,
   "metadata": {
    "collapsed": true
   },
   "outputs": [],
   "source": [
    "import glob\n",
    "import numpy as np\n",
    "import netCDF4 as nc"
   ]
  },
  {
   "cell_type": "code",
   "execution_count": 3,
   "metadata": {
    "collapsed": true
   },
   "outputs": [],
   "source": [
    "names = sorted(glob.glob('GEOTRACE_NEW01_1m*'))\n",
    "N = len(names)\n",
    "total_L = 48\n",
    "cuts = [0, 12, 24, 36, 48]\n",
    "cuts_N = len(cuts)\n",
    "ydim, xdim = temp_obj.DOMAIN_size_local()\n",
    "zdim = 50"
   ]
  },
  {
   "cell_type": "code",
   "execution_count": 52,
   "metadata": {
    "collapsed": false
   },
   "outputs": [
    {
     "ename": "SyntaxError",
     "evalue": "EOL while scanning string literal (<ipython-input-52-e4fa9dd32230>, line 25)",
     "output_type": "error",
     "traceback": [
      "\u001b[1;36m  File \u001b[1;32m\"<ipython-input-52-e4fa9dd32230>\"\u001b[1;36m, line \u001b[1;32m25\u001b[0m\n\u001b[1;33m    nc_obj.DOMAIN_number_total = getattr(temp_obj, 'DOMAIN_number_total)\u001b[0m\n\u001b[1;37m                                                                       ^\u001b[0m\n\u001b[1;31mSyntaxError\u001b[0m\u001b[1;31m:\u001b[0m EOL while scanning string literal\n"
     ]
    }
   ],
   "source": [
    "for i in range(N):\n",
    "\n",
    "    temp_obj = nc.Dataset(names[i], 'a')\n",
    "    temp_Ba = temp_obj.variables['Ba']\n",
    "    temp_d18O = temp_obj.variables['d18O']\n",
    "    \n",
    "    for j in range(cuts_N):\n",
    "        \n",
    "        xdim, ydim = temp_obj.DOMAIN_size_local()\n",
    "        nc_obj = nc.Dataset(names[0][0:-27]+'part'+str(j)+names[0][-10:], 'w')\n",
    "        \n",
    "        x = nc_obj.createDimension('x', xdim)\n",
    "        y = nc_obj.createDimension('y', ydim)\n",
    "        z = nc_obj.createDimension('deptht', zdim)\n",
    "        t = nc_obj.createDimension('time_counter', None)\n",
    "        \n",
    "        Ba_obj=nc_obj.createVariable('Ba', np.float64, ('time_counter', 'deptht', 'y', 'x'), zlib=True)\n",
    "        d18O_obj=nc_obj.createVariable('d18O', np.float64, ('time_counter', 'deptht', 'y', 'x'), zlib=True)\n",
    "        \n",
    "        Ba_obj[:]=temp_Ba[cuts[j]:cuts[j+1], :, :, :]\n",
    "        Ba_obj.units = getattr(temp_Ba, 'units')\n",
    "        Ba_obj.standard_name = getattr(temp_Ba, 'standard_name')\n",
    "        Ba_obj._FillValue = getattr(temp_Ba, '_FillValue')\n",
    "        Ba_obj.long_name = getattr(temp_Ba, 'long_name')\n",
    "        Ba_obj.online_operation = getattr(temp_Ba, 'online_operation')\n",
    "        Ba_obj.interval_operation = getattr(temp_Ba, 'interval_operation')\n",
    "        Ba_obj.interval_write = getattr(temp_Ba, 'interval_write')\n",
    "        Ba_obj.coordinates = getattr(temp_Ba, 'coordinates')\n",
    "\n",
    "        d18O_obj[:]=temp_d18O[cuts[j]:cuts[j+1], :, :, :]\n",
    "        d18O_obj.units = getattr(temp_d18O, 'units')\n",
    "        d18O_obj.standard_name = getattr(temp_d18O, 'standard_name')\n",
    "        d18O_obj._FillValue = getattr(temp_d18O, '_FillValue')\n",
    "        d18O_obj.long_name = getattr(temp_d18O, 'long_name')\n",
    "        d18O_obj.online_operation = getattr(temp_d18O, 'online_operation')\n",
    "        d18O_obj.interval_operation = getattr(temp_d18O, 'interval_operation')\n",
    "        d18O_obj.interval_write = getattr(temp_d18O, 'interval_write')\n",
    "        d18O_obj.coordinates = getattr(temp_d18O, 'coordinates')\n",
    "        \n",
    "        nc_obj.Coventions = getattr(temp_obj, 'Conventions')\n",
    "        nc_obj.file_name = getattr(temp_obj, 'file_name')\n",
    "        nc_obj.production = getattr(temp_obj, 'production')\n",
    "        nc_obj.Timestamp = getattr(temp_obj, 'Timestamp')\n",
    "        nc_obj.DOMAIN_number_total = getattr(temp_obj, 'DOMAIN_number_total)\n",
    "        nc_obj.DOMAIN_number = getattr(temp_obj, 'DOMAIN_number')\n",
    "        nc_obj.DOMAIN_dimensions_ids = getattr(temp_obj, 'DOMAIN_dimensions_ids')\n",
    "        nc_obj.DOMAIN_size_global = getattr(temp_obj, 'DOMAIN_size_global')\n",
    "        nc_obj.DOMAIN_size_local  = getattr(temp_obj, 'DOMAIN_size_local ')\n",
    "        nc_obj.DOMAIN_position_first = getattr(temp_obj, 'DOMAIN_position_first')\n",
    "        nc_obj.DOMAIN_position_last = getattr(temp_obj, 'DOMAIN_position_last')\n",
    "        nc_obj.DOMAIN_halo_size_start = getattr(temp_obj, 'DOMAIN_number')\n",
    "        nc_obj.DOMAIN_halo_size_end = getattr(temp_obj, 'DOMAIN_halo_size_end')\n",
    "        nc_obj.DOMAIN_type = getattr(temp_obj, 'DOMAIN_type')\n",
    "        nc_obj.DOMAIN_DIM_N001 = getattr(temp_obj, 'DOMAIN_DIM_N001')\n",
    "        nc_obj.DOMAIN_DIM_N002 = getattr(temp_obj, 'DOMAIN_DIM_N002')\n",
    "        nc_obj.DOMAIN_DIM_N003 = getattr(temp_obj, 'DOMAIN_DIM_N003')\n",
    "        nc_obj.DOMAIN_DIM_N004 = getattr(temp_obj, 'DOMAIN_DIM_N004')\n",
    "        nc_obj.DOMAIN_DIM_N005 = getattr(temp_obj, 'DOMAIN_DIM_N005')\n",
    "        #for attr_name in test2.ncattrs():\n",
    "        #    print(getattr(test2, name))\n",
    "        nc_obj.close()\n",
    "                                             \n",
    "    temp_obj.close()\n",
    "                                             \n",
    "        "
   ]
  }
 ],
 "metadata": {
  "kernelspec": {
   "display_name": "Python 2",
   "language": "python",
   "name": "python2"
  },
  "language_info": {
   "codemirror_mode": {
    "name": "ipython",
    "version": 2
   },
   "file_extension": ".py",
   "mimetype": "text/x-python",
   "name": "python",
   "nbconvert_exporter": "python",
   "pygments_lexer": "ipython2",
   "version": "2.7.11"
  }
 },
 "nbformat": 4,
 "nbformat_minor": 0
}
