{
 "cells": [
  {
   "cell_type": "markdown",
   "metadata": {},
   "source": [
    "# Fixing GDPS preciptation problems"
   ]
  },
  {
   "cell_type": "markdown",
   "metadata": {},
   "source": [
    "The model code requires the hourly input of preciptation, however GDPS files don't have the record in Feb 29th in 2004, 2008 and 2012.\n",
    "\n",
    "This notebook is trying to fix the problem by using linear interpolation. The code is computational heavy and has been moved to `_script/Modify_GDPS.py`."
   ]
  },
  {
   "cell_type": "code",
   "execution_count": 3,
   "metadata": {
    "collapsed": true
   },
   "outputs": [],
   "source": [
    "import glob\n",
    "import scipy.io\n",
    "import numpy as np\n",
    "import netCDF4 as nc\n",
    "from __future__ import print_function\n",
    "% matplotlib inline"
   ]
  },
  {
   "cell_type": "code",
   "execution_count": 4,
   "metadata": {
    "collapsed": false
   },
   "outputs": [
    {
     "data": {
      "text/plain": [
       "[u'LON', u'LAT', u'TIME', u'precip']"
      ]
     },
     "execution_count": 4,
     "metadata": {},
     "output_type": "execute_result"
    }
   ],
   "source": [
    "ori_obj = nc.Dataset('_data/precip_gdps_y2004.nc', 'r')\n",
    "ori_obj.variables.keys()"
   ]
  },
  {
   "cell_type": "code",
   "execution_count": 6,
   "metadata": {
    "collapsed": false
   },
   "outputs": [
    {
     "data": {
      "text/plain": [
       "(8760, 368, 801)"
      ]
     },
     "execution_count": 6,
     "metadata": {},
     "output_type": "execute_result"
    }
   ],
   "source": [
    "#LON = ori_obj.variables['LON'][:]\n",
    "#LAT = ori_obj.variables['LAT'][:]\n",
    "#TIME = ori_obj.variables['TIME'][:]\n",
    "precip = ori_obj.variables['precip']"
   ]
  },
  {
   "cell_type": "markdown",
   "metadata": {},
   "source": [
    "Feb 29th is the 60th day (1440th hour) in 2004/2008/2012."
   ]
  },
  {
   "cell_type": "code",
   "execution_count": 7,
   "metadata": {
    "collapsed": false
   },
   "outputs": [
    {
     "name": "stdout",
     "output_type": "stream",
     "text": [
      "[  1.00000000e+00   2.00000000e+00   3.00000000e+00 ...,   8.75800000e+03\n",
      "   8.75900000e+03   8.76000000e+03]\n"
     ]
    }
   ],
   "source": [
    "print(TIME)"
   ]
  },
  {
   "cell_type": "code",
   "execution_count": 13,
   "metadata": {
    "collapsed": false
   },
   "outputs": [],
   "source": [
    "TIME = np.arange(1.0, 8762.0, 1.0)"
   ]
  },
  {
   "cell_type": "code",
   "execution_count": null,
   "metadata": {
    "collapsed": true
   },
   "outputs": [],
   "source": [
    "precip_modified = np.empty([8761, 368, 801])\n",
    "precip_modified[0:1439, :, :] = precip[0:1439, :, :]\n",
    "precip_modified[1440, :, :] = (precip[1439, :, :] + precip[1440, :, :])/2.0\n",
    "precip_modified[1441:8760, :, :] = precip[1440:8759, :, :]"
   ]
  },
  {
   "cell_type": "code",
   "execution_count": 14,
   "metadata": {
    "collapsed": false
   },
   "outputs": [
    {
     "data": {
      "text/plain": [
       "1440"
      ]
     },
     "execution_count": 14,
     "metadata": {},
     "output_type": "execute_result"
    }
   ],
   "source": [
    "new_obj = nc.Dataset('_data/precip_gdps_y2004_new.nc', 'w') # format='NETCDF4'\n",
    "\n",
    "time = nc_obj.createDimension('time', None)\n",
    "lat  = nc_obj.createDimension('lat', 368)\n",
    "lon  = nc_obj.createDimension('lon', 801)\n",
    "\n",
    "time_obj = nc_obj.createVariable('TIME', np.float32, ('time',), zlib=True)\n",
    "lat_obj  = nc_obj.createVariable('LAT', np.float64, ('lat', 'lon'), zlib=True)\n",
    "lon_obj  = nc_obj.createVariable('LON', np.float64, ('lat', 'lon'), zlib=True)\n",
    "precip_obj  = nc_obj.createVariable('precip', np.float64, ('time', 'lat', 'lon'), zlib=True)\n",
    "\n",
    "time_obj[:]=TIME\n",
    "lon_obj[:] = ori_obj.variables['LON'][:]\n",
    "lat_obj[:] = ori_obj.variables['LAT'][:]\n",
    "precip_obj[:] = precip_modified\n",
    "\n",
    "new_obj.close()"
   ]
  },
  {
   "cell_type": "code",
   "execution_count": null,
   "metadata": {
    "collapsed": true
   },
   "outputs": [],
   "source": []
  }
 ],
 "metadata": {
  "kernelspec": {
   "display_name": "Python 2",
   "language": "python",
   "name": "python2"
  },
  "language_info": {
   "codemirror_mode": {
    "name": "ipython",
    "version": 2
   },
   "file_extension": ".py",
   "mimetype": "text/x-python",
   "name": "python",
   "nbconvert_exporter": "python",
   "pygments_lexer": "ipython2",
   "version": "2.7.11"
  }
 },
 "nbformat": 4,
 "nbformat_minor": 0
}
