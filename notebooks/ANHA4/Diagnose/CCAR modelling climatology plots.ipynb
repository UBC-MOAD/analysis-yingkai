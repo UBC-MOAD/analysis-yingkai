{
 "cells": [
  {
   "cell_type": "markdown",
   "metadata": {},
   "source": [
    "# CCAR Modelling Climatology Plots"
   ]
  },
  {
   "cell_type": "markdown",
   "metadata": {},
   "source": [
    "Climatology and seasonal varibilities."
   ]
  },
  {
   "cell_type": "markdown",
   "metadata": {},
   "source": [
    "## Dissolved Ba\n",
    "----------------------"
   ]
  },
  {
   "cell_type": "markdown",
   "metadata": {
    "collapsed": true
   },
   "source": [
    "<img src=\"../../_publish/clim/Ba_clim_maps_1.png\" width=900 align=\"left\"/>\n",
    "<img src=\"../../_publish/clim/Ba_clim_timeseries_2.png\" width=900 align=\"left\"/>\n",
    "<img src=\"../../_publish/clim/Ba_clim_riverin_3.png\" width=900 align=\"left\"/>\n",
    "<img src=\"../../_publish/clim/Ba_clim_inout_4.png\" width=900 align=\"left\"/>"
   ]
  },
  {
   "cell_type": "markdown",
   "metadata": {},
   "source": [
    "### Tech. Note"
   ]
  },
  {
   "cell_type": "markdown",
   "metadata": {},
   "source": [
    "### Riverine $\\mathsf{Ba_d}$ input\n",
    "\n",
    "-----------------------\n",
    "\n",
    "$$\n",
    "Ba_d = \\frac{1}{\\rho_0}R\\Delta x\\Delta y\\cdot R_{Ba}\\cdot 10^{-6}\n",
    "$$\n",
    "\n",
    "$R_{Ba}$ is dissolved Ba concentration ($\\mathrm{nM}$) in different pan-Arctic rivers.\n",
    "\n",
    "$R$ is the river discharge as $\\mathrm{kg\\cdot m^{-2}\\cdot s^{-1}}$.\n",
    "\n",
    "$10^{-6}$ converts $\\mathrm{nM}$ to $\\mathrm{mol\\cdot m^{-3}}$\n",
    "\n",
    "Here the unit of $\\mathrm{Ba_d}$ is $\\mathrm{mol\\cdot s^{-1}}$, the figure shows the value as \"mol per month\" and thus the unit is $\\mathrm{mol}$    "
   ]
  },
  {
   "cell_type": "markdown",
   "metadata": {},
   "source": [
    "### $\\mathsf{Ba_d}$ flux estimation\n",
    "\n",
    "-----------------------------\n",
    "$$\n",
    "F_{Ba} = T\\cdot\\left(A\\vec{v_h}\\cdot\\vec{n}\\right)\\cdot 10^{-6}\n",
    "$$\n",
    "\n",
    "$T$ is the T-grid Ba var.\n",
    "\n",
    "$\\vec{n}$ is the normal vector of the transect.\n",
    "\n",
    "$10^{-6}$ converts $\\mathrm{nM}$ to $\\mathrm{mol\\cdot m^{-3}}$\n",
    "\n",
    "In $\\vec{v_h}$, the \"h\" is by `nav_lon` and `nav_lat` (not lats & lon)  \n",
    "\n",
    "$F_{Ba}$ has a unit of $\\mathrm{mol\\cdot s^{-1}}$ and plot as \"mol per month\", so the unit becomes $\\mathrm{mol}$\n",
    "\n",
    "#### Explaination of $\\mathsf{\\vec{v_h}\\cdot\\vec{n}}$\n",
    "\n",
    "---------------------------------\n",
    "\n",
    "<img src=\"../../_publish/clim/Tracer_flux_cal.PNG\" width=600 align=\"left\"/>"
   ]
  },
  {
   "cell_type": "markdown",
   "metadata": {},
   "source": [
    "#### Location of transects\n",
    "\n",
    "-----------------------------\n",
    "\n",
    "<img src=\"../../_publish/clim/trans_BS_FS.png\" width=600 align=\"left\"/>\n",
    "<img src=\"../../_publish/clim/trans_HD_BB.png\" width=600 align=\"left\"/>\n",
    "<img src=\"../../_publish/clim/trans_BS.png\" width=600 align=\"left\"/>"
   ]
  },
  {
   "cell_type": "markdown",
   "metadata": {},
   "source": [
    "## Oxygen isotope ratio\n",
    "\n",
    "--------------------------"
   ]
  },
  {
   "cell_type": "markdown",
   "metadata": {
    "collapsed": true
   },
   "source": [
    "<img src=\"../../_publish/clim/d18O_clim_map_1.png\" width=900 align=\"left\"/>\n",
    "<img src=\"../../_publish/clim/d18O_clim_all_2.png\" width=900 align=\"left\"/>\n",
    "<img src=\"../../_publish/clim/d18O_clim_icecover_3.png\" width=900 align=\"left\"/>\n",
    "<img src=\"../../_publish/clim/d18O_clim_hist_4.png\" width=900 align=\"left\"/>"
   ]
  },
  {
   "cell_type": "code",
   "execution_count": null,
   "metadata": {
    "collapsed": true
   },
   "outputs": [],
   "source": []
  }
 ],
 "metadata": {
  "kernelspec": {
   "display_name": "Python 2",
   "language": "python",
   "name": "python2"
  },
  "language_info": {
   "codemirror_mode": {
    "name": "ipython",
    "version": 2
   },
   "file_extension": ".py",
   "mimetype": "text/x-python",
   "name": "python",
   "nbconvert_exporter": "python",
   "pygments_lexer": "ipython2",
   "version": "2.7.12"
  }
 },
 "nbformat": 4,
 "nbformat_minor": 0
}
