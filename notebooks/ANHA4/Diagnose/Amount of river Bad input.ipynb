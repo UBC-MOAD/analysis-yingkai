{
 "cells": [
  {
   "cell_type": "markdown",
   "metadata": {},
   "source": [
    "# Amount of river Bad input"
   ]
  },
  {
   "cell_type": "code",
   "execution_count": 1,
   "metadata": {
    "collapsed": true
   },
   "outputs": [],
   "source": [
    "import sys\n",
    "sys.path.insert(0, '../../_libs/')\n",
    "import NEMO_tools as Nts\n",
    "from Mat2Py import datenum2datetime, datetime2datenum_single"
   ]
  },
  {
   "cell_type": "code",
   "execution_count": 2,
   "metadata": {
    "collapsed": false
   },
   "outputs": [],
   "source": [
    "import glob\n",
    "import scipy.io\n",
    "import datetime\n",
    "import numpy as np\n",
    "#import seaborn as sb\n",
    "import netCDF4 as nc\n",
    "import NEMO_tools as Nts\n",
    "import matplotlib.pyplot as plt\n",
    "from mpl_toolkits.basemap import Basemap\n",
    "from NEMO_tools import reporj_NEMOgrid\n",
    "from dateutil.relativedelta import relativedelta\n",
    "% matplotlib inline"
   ]
  },
  {
   "cell_type": "code",
   "execution_count": 3,
   "metadata": {
    "collapsed": true
   },
   "outputs": [],
   "source": [
    "def seasonal_decomp3d(data, method=0):\n",
    "    '''\n",
    "    =======================================================================\n",
    "    Remove the seasonal cycle from 1D data\n",
    "                            ----- created on 2015/06/15, Yingkai (Kyle) Sha\n",
    "    -----------------------------------------------------------------------\n",
    "        data = seasonal_decomp(...)\n",
    "    -----------------------------------------------------------------------\n",
    "    Input:\n",
    "            data: Time should be the first dim.\n",
    "            method: removal done by anomaly (=0) or normalize (=1)\n",
    "    ======================================================================= \n",
    "    '''\n",
    "    data2 = np.empty(data.shape)\n",
    "    for mon in range(12):\n",
    "        temp_data = np.nanmean(data[mon:len(data):12, :, :], 0)\n",
    "        if method == 0:\n",
    "            data2[mon:len(data):12, :, :] = data[mon:len(data):12, :, :]-temp_data\n",
    "    return data2"
   ]
  },
  {
   "cell_type": "code",
   "execution_count": 4,
   "metadata": {
    "collapsed": true
   },
   "outputs": [],
   "source": [
    "coordinate_name=glob.glob('/ocean/yingkai/GEOTRACES/NEMO-CODE/NEMOGCM/CONFIG/ANHA4_OFF/EXP00/mesh_zgr.nc')\n",
    "coordinate_obj=nc.Dataset(coordinate_name[0])\n",
    "nav_lon=coordinate_obj.variables['nav_lon'][:]\n",
    "nav_lat=coordinate_obj.variables['nav_lat'][:]\n",
    "e1t = coordinate_obj.variables['e1t'][:]\n",
    "e2t = coordinate_obj.variables['e2t'][:]\n",
    "e3t = coordinate_obj.variables['e3t_0'][:]"
   ]
  },
  {
   "cell_type": "code",
   "execution_count": 5,
   "metadata": {
    "collapsed": true
   },
   "outputs": [],
   "source": [
    "from dateutil.relativedelta import relativedelta\n",
    "base = datetime.datetime(2002, 1, 1)\n",
    "date_list = [base + relativedelta(months=x) for x in range(144)]"
   ]
  },
  {
   "cell_type": "code",
   "execution_count": 6,
   "metadata": {
    "collapsed": false
   },
   "outputs": [],
   "source": [
    "MAT = scipy.io.loadmat('../../_data/Exchange/Ba_ANHA4_SRC.mat')\n",
    "Ba_ANHA4 = MAT['Ba_ANHA4'][:]\n",
    "Ba_ANHA4 = np.transpose(Ba_ANHA4, [0, 2, 1])"
   ]
  },
  {
   "cell_type": "code",
   "execution_count": 7,
   "metadata": {
    "collapsed": false
   },
   "outputs": [],
   "source": [
    "rf_name = sorted(glob.glob('/ocean/yingkai/Repository/CCAR Modeling Team/analysis-Kyle/notebooks/_data/NEMO/ANHA4/runoff/*.nc')[2:])\n",
    "rf_name = rf_name[44:-1]\n",
    "NUM = len(rf_name)"
   ]
  },
  {
   "cell_type": "code",
   "execution_count": 8,
   "metadata": {
    "collapsed": false
   },
   "outputs": [
    {
     "data": {
      "text/plain": [
       "['/ocean/yingkai/Repository/CCAR Modeling Team/analysis-Kyle/notebooks/_data/NEMO/ANHA4/runoff/ANHA4_runoff_monthly_combined_Dai_Trenberth_Bamber_y2002.nc',\n",
       " '/ocean/yingkai/Repository/CCAR Modeling Team/analysis-Kyle/notebooks/_data/NEMO/ANHA4/runoff/ANHA4_runoff_monthly_combined_Dai_Trenberth_Bamber_y2003.nc',\n",
       " '/ocean/yingkai/Repository/CCAR Modeling Team/analysis-Kyle/notebooks/_data/NEMO/ANHA4/runoff/ANHA4_runoff_monthly_combined_Dai_Trenberth_Bamber_y2004.nc',\n",
       " '/ocean/yingkai/Repository/CCAR Modeling Team/analysis-Kyle/notebooks/_data/NEMO/ANHA4/runoff/ANHA4_runoff_monthly_combined_Dai_Trenberth_Bamber_y2005.nc',\n",
       " '/ocean/yingkai/Repository/CCAR Modeling Team/analysis-Kyle/notebooks/_data/NEMO/ANHA4/runoff/ANHA4_runoff_monthly_combined_Dai_Trenberth_Bamber_y2006.nc',\n",
       " '/ocean/yingkai/Repository/CCAR Modeling Team/analysis-Kyle/notebooks/_data/NEMO/ANHA4/runoff/ANHA4_runoff_monthly_combined_Dai_Trenberth_Bamber_y2007.nc',\n",
       " '/ocean/yingkai/Repository/CCAR Modeling Team/analysis-Kyle/notebooks/_data/NEMO/ANHA4/runoff/ANHA4_runoff_monthly_combined_Dai_Trenberth_Bamber_y2008.nc',\n",
       " '/ocean/yingkai/Repository/CCAR Modeling Team/analysis-Kyle/notebooks/_data/NEMO/ANHA4/runoff/ANHA4_runoff_monthly_combined_Dai_Trenberth_Bamber_y2009.nc',\n",
       " '/ocean/yingkai/Repository/CCAR Modeling Team/analysis-Kyle/notebooks/_data/NEMO/ANHA4/runoff/ANHA4_runoff_monthly_combined_Dai_Trenberth_Bamber_y2010.nc',\n",
       " '/ocean/yingkai/Repository/CCAR Modeling Team/analysis-Kyle/notebooks/_data/NEMO/ANHA4/runoff/ANHA4_runoff_monthly_combined_Dai_Trenberth_Bamber_y2011.nc',\n",
       " '/ocean/yingkai/Repository/CCAR Modeling Team/analysis-Kyle/notebooks/_data/NEMO/ANHA4/runoff/ANHA4_runoff_monthly_combined_Dai_Trenberth_Bamber_y2012.nc',\n",
       " '/ocean/yingkai/Repository/CCAR Modeling Team/analysis-Kyle/notebooks/_data/NEMO/ANHA4/runoff/ANHA4_runoff_monthly_combined_Dai_Trenberth_Bamber_y2013.nc']"
      ]
     },
     "execution_count": 8,
     "metadata": {},
     "output_type": "execute_result"
    }
   ],
   "source": [
    "rf_name"
   ]
  },
  {
   "cell_type": "markdown",
   "metadata": {},
   "source": [
    "$$\n",
    "\\mathrm{Dissolved\\ Barium\\ river\\ input\\ (mol/s)} = \\frac{1}{\\rho_0}\\mathrm{runoff}\\Delta x\\Delta y\\cdot Ba_d\\cdot 10^{-6}\n",
    "$$\n",
    "$$\n",
    "\\mathrm{Dissolved\\ Barium\\ residence\\ time\\ (s)} = \\frac{Ba_d(d>50m)}{\\mathrm{Dissolved\\ Barium\\ river\\ input}+\\mathrm{^*Pacific\\ \\&\\ Atlantic\\ input}}\n",
    "$$"
   ]
  },
  {
   "cell_type": "code",
   "execution_count": 9,
   "metadata": {
    "collapsed": false
   },
   "outputs": [],
   "source": [
    "Ba_input = np.zeros([144, 800, 544])\n",
    "rf_input = np.zeros([144, 800, 544])\n",
    "for year in range(NUM):\n",
    "    #print(year)\n",
    "    nc_obj = nc.Dataset(rf_name[year])\n",
    "    temp_rf = nc_obj.variables['runoff'][:]*e1t[0, :, :]*e2t[0, :, :]*1e-3   # rf*x*y*rho-1 kg/m2/s --> m3/s\n",
    "    temp_rf[temp_rf==0]=np.nan\n",
    "    for mon in range(12):\n",
    "        #print(mon)\n",
    "        Ba_input[12*year+mon, :, :] = temp_rf[mon, :, :]*Ba_ANHA4[mon, :, :]*1e-6 # mol/s\n",
    "        rf_input[12*year+mon, :, :] = temp_rf[mon, :, :] # m3/s"
   ]
  },
  {
   "cell_type": "code",
   "execution_count": 10,
   "metadata": {
    "collapsed": false
   },
   "outputs": [],
   "source": [
    "rf_map=glob.glob('../../_data/Samples/STN-30p/runoff_id_modified.mat')\n",
    "rf_obj=scipy.io.loadmat(rf_map[0])\n",
    "rf_id=rf_obj['rf_id']\n",
    "rf_lon=rf_obj['lon']\n",
    "rf_lat=rf_obj['lat']\n",
    "rf_id_interp=Nts.reporj_NEMOgrid(rf_lon, rf_lat, rf_id, nav_lon, nav_lat, method='nearest')"
   ]
  },
  {
   "cell_type": "code",
   "execution_count": 11,
   "metadata": {
    "collapsed": false
   },
   "outputs": [],
   "source": [
    "Ba_total    = np.nansum(np.nansum(Ba_input[:, :, :],  1), 1)\n",
    "Ba_CAA = np.nansum(Ba_input[:, rf_id_interp==2], 1)\n",
    "Ba_Barents  = np.nansum(Ba_input[:, rf_id_interp==4],  1)\n",
    "Ba_Beaufort = np.nansum(Ba_input[:, rf_id_interp==5],  1)\n",
    "Ba_Chukchi  = np.nansum(Ba_input[:, rf_id_interp==7],  1)\n",
    "Ba_ESib     = np.nansum(Ba_input[:, rf_id_interp==8],  1)\n",
    "Ba_Kara     = np.nansum(Ba_input[:, rf_id_interp==12], 1)\n",
    "Ba_Laptev   = np.nansum(Ba_input[:, rf_id_interp==13], 1)\n",
    "#rf_total    = np.nansum(np.nansum(rf_input[:, :, :],  1), 1)\n",
    "#rf_Beaufort = np.nansum(rf_input[:, rf_id_interp==5],  1)\n",
    "#rf_ESib     = np.nansum(rf_input[:, rf_id_interp==8],  1)\n",
    "#rf_Kara     = np.nansum(rf_input[:, rf_id_interp==12], 1)\n",
    "#rf_Laptev   = np.nansum(rf_input[:, rf_id_interp==13], 1)"
   ]
  },
  {
   "cell_type": "code",
   "execution_count": 21,
   "metadata": {
    "collapsed": true
   },
   "outputs": [],
   "source": [
    "#save_var = {'Ba_total': Ba_total, 'Ba_CAA': Ba_CAA, 'Ba_Barents': Ba_Barents, 'Ba_Beaufort': Ba_Beaufort,\n",
    "#           'Ba_Chukchi': Ba_Chukchi, 'Ba_ESib': Ba_ESib, 'Ba_Kara': Ba_Kara, 'Ba_Laptev': Ba_Laptev}\n",
    "#scipy.io.savemat('../../_data/MAT files/Ba_river_input.mat', mdict=save_var)"
   ]
  },
  {
   "cell_type": "markdown",
   "metadata": {
    "collapsed": true
   },
   "source": [
    "# Annual input in Eurasian rivers"
   ]
  },
  {
   "cell_type": "code",
   "execution_count": 20,
   "metadata": {
    "collapsed": false
   },
   "outputs": [],
   "source": [
    "MAT=scipy.io.loadmat('../../_data/MAT files/Processed samples/River_class.mat')\n",
    "lon = MAT['lon_f']\n",
    "lat = MAT['lat_f']\n",
    "Class = MAT['River_class_f']\n",
    "Class[Class==1]=0;\n",
    "Class[Class==22]=1;"
   ]
  },
  {
   "cell_type": "code",
   "execution_count": 21,
   "metadata": {
    "collapsed": true
   },
   "outputs": [],
   "source": [
    "coordinate_name=glob.glob('/ocean/yingkai/GEOTRACES/NEMO-CODE/NEMOGCM/CONFIG/ANHA4_OFF/EXP00/mesh_zgr.nc')\n",
    "coordinate_obj=nc.Dataset(coordinate_name[0])\n",
    "nav_lon=coordinate_obj.variables['nav_lon'][:]\n",
    "nav_lat=coordinate_obj.variables['nav_lat'][:]"
   ]
  },
  {
   "cell_type": "code",
   "execution_count": 24,
   "metadata": {
    "collapsed": true
   },
   "outputs": [],
   "source": [
    "Class_interp = reporj_NEMOgrid(lon, lat, Class, nav_lon, nav_lat, method='nearest')\n",
    "Class_range = reporj_NEMOgrid(lon, lat, Class, nav_lon, nav_lat, method='linear')\n",
    "Class_interp[np.isnan(Class_range)] = np.nan"
   ]
  },
  {
   "cell_type": "code",
   "execution_count": 25,
   "metadata": {
    "collapsed": true
   },
   "outputs": [],
   "source": [
    "d2m = np.array([31, 28, 31, 30, 31, 30, 31, 31, 30, 31, 30, 31])\n",
    "s2m = 60.0*60*24*d2m\n",
    "s2m_all = np.hstack([s2m, s2m, s2m, s2m, s2m, s2m, s2m, s2m, s2m, s2m, s2m, s2m])"
   ]
  },
  {
   "cell_type": "code",
   "execution_count": 26,
   "metadata": {
    "collapsed": true
   },
   "outputs": [],
   "source": [
    "def seasonal_cycle_1d(t):\n",
    "    t_stack = np.reshape(t, [12, 12])\n",
    "    return np.mean(t_stack, 0)"
   ]
  },
  {
   "cell_type": "code",
   "execution_count": 29,
   "metadata": {
    "collapsed": true
   },
   "outputs": [],
   "source": [
    "\n"
   ]
  },
  {
   "cell_type": "code",
   "execution_count": 22,
   "metadata": {
    "collapsed": false
   },
   "outputs": [
    {
     "data": {
      "text/plain": [
       "(544, 800)"
      ]
     },
     "execution_count": 22,
     "metadata": {},
     "output_type": "execute_result"
    }
   ],
   "source": [
    "ANHA4_lon.shape"
   ]
  },
  {
   "cell_type": "code",
   "execution_count": 23,
   "metadata": {
    "collapsed": false
   },
   "outputs": [
    {
     "data": {
      "text/plain": [
       "(144, 800, 544)"
      ]
     },
     "execution_count": 23,
     "metadata": {},
     "output_type": "execute_result"
    }
   ],
   "source": [
    "Ba_input.shape"
   ]
  },
  {
   "cell_type": "code",
   "execution_count": 31,
   "metadata": {
    "collapsed": false
   },
   "outputs": [
    {
     "data": {
      "text/plain": [
       "0.61460616086130504"
      ]
     },
     "execution_count": 31,
     "metadata": {},
     "output_type": "execute_result"
    }
   ],
   "source": [
    "Ba_Lena=seasonal_cycle_1d(np.nansum(Ba_input[:, Class_interp==12],  1))*s2m*1e-8; \n",
    "np.sum(Ba_Lena)"
   ]
  },
  {
   "cell_type": "code",
   "execution_count": 32,
   "metadata": {
    "collapsed": false
   },
   "outputs": [
    {
     "data": {
      "text/plain": [
       "0.7628557988693786"
      ]
     },
     "execution_count": 32,
     "metadata": {},
     "output_type": "execute_result"
    }
   ],
   "source": [
    "Ba_Lena=seasonal_cycle_1d(np.nansum(Ba_input[:, Class_interp==18],  1))*s2m*1e-8; \n",
    "np.sum(Ba_Lena)"
   ]
  },
  {
   "cell_type": "code",
   "execution_count": 42,
   "metadata": {
    "collapsed": false
   },
   "outputs": [
    {
     "data": {
      "text/plain": [
       "0.42803572235751952"
      ]
     },
     "execution_count": 42,
     "metadata": {},
     "output_type": "execute_result"
    }
   ],
   "source": [
    "Ba_Lena=seasonal_cycle_1d(np.nansum(Ba_input[:, Class_interp==17],  1))*s2m*1e-8; \n",
    "np.sum(Ba_Lena)"
   ]
  },
  {
   "cell_type": "code",
   "execution_count": null,
   "metadata": {
    "collapsed": true
   },
   "outputs": [],
   "source": []
  }
 ],
 "metadata": {
  "kernelspec": {
   "display_name": "Python 2",
   "language": "python",
   "name": "python2"
  },
  "language_info": {
   "codemirror_mode": {
    "name": "ipython",
    "version": 2
   },
   "file_extension": ".py",
   "mimetype": "text/x-python",
   "name": "python",
   "nbconvert_exporter": "python",
   "pygments_lexer": "ipython2",
   "version": "2.7.12"
  }
 },
 "nbformat": 4,
 "nbformat_minor": 0
}
