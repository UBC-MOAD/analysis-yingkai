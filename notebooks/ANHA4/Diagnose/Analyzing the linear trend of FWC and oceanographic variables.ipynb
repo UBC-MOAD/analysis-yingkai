{
 "cells": [
  {
   "cell_type": "markdown",
   "metadata": {},
   "source": [
    "# Linear Trends of FWC, Tracers and surface ocean"
   ]
  },
  {
   "cell_type": "markdown",
   "metadata": {},
   "source": [
    "* Least square based, linear regression (x-date; y-var).\n",
    "* Focusing on the trend (not the general fit), so did t-test instead of F-test. "
   ]
  },
  {
   "cell_type": "markdown",
   "metadata": {},
   "source": [
    "<img src=\"../../_publish/clim/trend_FWC_SSH.png\" width=900 align=\"center\"/>\n",
    "<img src=\"../../_publish/clim/trend_Ba_d18O.png\" width=900 align=\"center\"/>"
   ]
  },
  {
   "cell_type": "markdown",
   "metadata": {},
   "source": [
    "* FWC positive in Canadian side, East Greenland ... negative in Makarov Basin, E. Siberian Sea.\n",
    "* SSH positive/negative consist with FWC, shows the role of Ekman conv./div.\n",
    "* Ba negative in CAA, but FWC/SSH positive in CAA --> Sea-ice melt + local runoff\n",
    "* d18O negative --> transport of EU runoff to Fram strait ... positive --> sea-ice melt."
   ]
  },
  {
   "cell_type": "markdown",
   "metadata": {},
   "source": [
    "<img src=\"../../_publish/clim/trend_AO.png\" width=700 align=\"left\"/>"
   ]
  },
  {
   "cell_type": "markdown",
   "metadata": {},
   "source": [
    "* Oct to next year May AO averaged in each year.\n",
    "* NOAA AO: EOF 1000hPa GPH 1st mode PC\n",
    "* GDPS AO: EOF SLP 1st mode PC\n",
    "* Highlight: Positive trend in the past few decades, predominately 2002-2013..."
   ]
  },
  {
   "cell_type": "code",
   "execution_count": null,
   "metadata": {
    "collapsed": true
   },
   "outputs": [],
   "source": []
  },
  {
   "cell_type": "code",
   "execution_count": 1,
   "metadata": {
    "collapsed": true
   },
   "outputs": [],
   "source": [
    "#FName = '/ocean/yingkai/GEOTRACES/Simulations/BASE03_1m_20020101_20131231_ptrc_T.nc'\n",
    "#ptrc_obj = nc.Dataset(FName)\n",
    "#Ba = np.zeros([144, 800, 544])\n",
    "#for i in range(23):\n",
    "#    Ba += ptrc_obj.variables['Ba'][:, i, :, :]\n",
    "#Ba[Ba==0]=np.nan\n",
    "#Ba = Ba/23.0\n",
    "#\n",
    "#d18O = np.zeros([144, 800, 544])\n",
    "#for i in range(23):\n",
    "#    d18O += ptrc_obj.variables['d18O'][:, i, :, :]\n",
    "#d18O[np.isnan(Ba)]=np.nan\n",
    "#d18O = d18O/23.0"
   ]
  },
  {
   "cell_type": "code",
   "execution_count": 2,
   "metadata": {
    "collapsed": true
   },
   "outputs": [],
   "source": [
    "#save_var = { 'Ba'  : Ba,\\\n",
    "#             'd18O': d18O\n",
    "#            }\n",
    "#scipy.io.savemat('../../_data/MAT files/BASE03_120m_tracer_vals.mat', mdict=save_var)"
   ]
  }
 ],
 "metadata": {
  "kernelspec": {
   "display_name": "Python 2",
   "language": "python",
   "name": "python2"
  },
  "language_info": {
   "codemirror_mode": {
    "name": "ipython",
    "version": 2
   },
   "file_extension": ".py",
   "mimetype": "text/x-python",
   "name": "python",
   "nbconvert_exporter": "python",
   "pygments_lexer": "ipython2",
   "version": "2.7.12"
  }
 },
 "nbformat": 4,
 "nbformat_minor": 0
}
