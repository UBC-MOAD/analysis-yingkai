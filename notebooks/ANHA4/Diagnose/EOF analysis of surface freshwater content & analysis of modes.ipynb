{
 "cells": [
  {
   "cell_type": "markdown",
   "metadata": {},
   "source": [
    "# EOF analysis of surface freshwater content & analysis of modes"
   ]
  },
  {
   "cell_type": "markdown",
   "metadata": {},
   "source": [
    "This notebook includes the work of EOF decomposition on surface freshwater content (FWC), the analysis and explainations of each modes.\n",
    "\n",
    "* EOF(FWC) --> different modes\n",
    "* Investigate the impact of atmos. patterns\n",
    "* The role of freshwater components in each modes "
   ]
  },
  {
   "cell_type": "markdown",
   "metadata": {},
   "source": [
    "# Content\n",
    "1. [**Method & data**](#Method-&-data)\n",
    " 2. [Surface freshwater content (FWC)](#Surface-freshwater-content)\n",
    " 2. [Other data helped to explain the result](#Other-data-helped-to-explain-the-result)\n",
    "1. [**EOF decomposition of FWC**](#EOF-decomposition-of-FWC)\n",
    " 2. [Result: expvar, spatial patterns, pcs](#Result:-expvar,-spatial-patterns,-pcs)\n",
    " 2. [If I don't \"dtrend\" ?](#If-I-don't-\"dtrend\"-?)\n",
    "1. [**Explainations of each mode**](#Explainations-of-each-mode)\n",
    " 2. [First mode: Dipole Anomaly](#First-mode:-Dipole-Anomaly)\n",
    " 2. [Second mode: interannual NAO signal](#Second-mode:-interannual-NAO-signal)"
   ]
  },
  {
   "cell_type": "code",
   "execution_count": 1,
   "metadata": {
    "collapsed": false
   },
   "outputs": [
    {
     "data": {
      "text/html": [
       "<script>\n",
       "code_show=true; \n",
       "function code_toggle() {\n",
       " if (code_show){\n",
       " $('div.input').hide();\n",
       " } else {\n",
       " $('div.input').show();\n",
       " }\n",
       " code_show = !code_show\n",
       "} \n",
       "$( document ).ready(code_toggle);\n",
       "</script>\n",
       "<form action=\"javascript:code_toggle()\"><input type=\"submit\" value=\"Click here to toggle on/off the raw code.\"></form>"
      ],
      "text/plain": [
       "<IPython.core.display.HTML object>"
      ]
     },
     "execution_count": 1,
     "metadata": {},
     "output_type": "execute_result"
    }
   ],
   "source": [
    "from IPython.display import HTML\n",
    "\n",
    "HTML('''<script>\n",
    "code_show=true; \n",
    "function code_toggle() {\n",
    " if (code_show){\n",
    " $('div.input').hide();\n",
    " } else {\n",
    " $('div.input').show();\n",
    " }\n",
    " code_show = !code_show\n",
    "} \n",
    "$( document ).ready(code_toggle);\n",
    "</script>\n",
    "<form action=\"javascript:code_toggle()\"><input type=\"submit\" value=\"Click here to toggle on/off the raw code.\"></form>''')"
   ]
  },
  {
   "cell_type": "markdown",
   "metadata": {},
   "source": [
    "# Motivation\n",
    "\n",
    "* $\\mathsf{Ba_d}$ and $\\mathsf{\\delta^{18}O}$ are important because they can diagnose the variability of Arctic ocean freshwater (FW) by saying the change of FW components (e.g. runoff from different rivers, Sea-ice melt/formation).\n",
    "* So the simulated $\\mathsf{Ba_d}$ and $\\mathsf{\\delta^{18}O}$ values should also achieve that functionality.\n",
    "* So we should know, for a certain \"FW variability pattern\", how well can simulated $\\mathsf{Ba_d}$ and $\\mathsf{\\delta^{18}O}$ expalain. And how the explaination can contribute to the science.\n",
    "\n",
    "* Here the \"FW variability pattern\" will be provided by the EOF modes of freshwater content (FWC).\n",
    "* This work is considered as a process based analysis + new understanding of FWC theories through model simulations.\n",
    "\n",
    "# Method\n",
    "\n",
    "## Freshwater content (FWC)\n",
    "\n",
    "** The definition of FWC **\n",
    "$$\n",
    "FWC = \\int^{z}_{0}{\\left( 1-\\frac{S(z)}{S_{ref}} \\right)dz}\n",
    "$$\n",
    "\n",
    "* $S_{ref}$ is 34.8 as the end-member of Atlantic water\n",
    "* $S(z)$ is the salinity profile as a function of $z$\n",
    "* $z$ is deptht(23), about 130m.\n",
    "* It only measures liquid phase freshwater\n",
    "\n",
    "** What makes surface FWC to change **\n",
    "\n",
    "* Re-distribution of FW components (advection)\n",
    "* Ekman transport.\n",
    "* Sea-ice melt/formation.\n",
    "* Change of runoff/precip. input (less important for a 10-year's investigation)\n",
    "\n",
    "<img src=\"../../_figures/FWC_sketch.png\" width=900 align=\"center\"/>\n",
    "<center>----------------------</center> \n",
    "<center>Sketches of FWC increases due to (a) Redistribution of freshwater component, (b) Ekman transport and (c) Sea-ice melt/formation.</center> \n",
    "\n",
    "<center>(b) and (c) were inspired by Proshutinsky et al.(2010).</center> \n",
    "\n",
    "*Proshutinsky et al. (2010) Freshwater transformations in the Beaufort Gyre and model intercomparison results. AOMIP Workshop #14.*\n",
    "\n",
    "** How did I calculate ** \n",
    "\n",
    "* Five-day vosaline files (huge) -> monthly mean files\n",
    "* Got `nav_lev` from `mesh_zgr.nc`\n",
    "* Applied `numpy.trapz` for vosaline[:24, i, j], finally loop over time. \n",
    "\n",
    "## Empirical Orthognal Function (EOF)\n",
    "\n",
    "** Intro. **\n",
    "\n",
    "* EOF is essentially an extended Principal Component Analysis (PCA) to 3D vars.\n",
    "* EOF is widely used to diagnose possible spatial patterns of variability and how they change with time.\n",
    "* The saperation done by EOF is \"mathmatically\" orthognal, there is no guarantee on science, but usually, statistical modes have some connection with physical patterns.\n",
    "\n",
    "** Pre-processing**\n",
    "\n",
    "* Remove the monthly mean signal (use the anomaly).\n",
    "* Remove the linear trend (`scipy.signal.detrend`).\n",
    "\n",
    "** Averages **\n",
    "\n",
    "* All spatial averages are weighted by the area of the model grid.\n",
    "* All depth averages are weighted by the vertical scale of model grid."
   ]
  },
  {
   "cell_type": "markdown",
   "metadata": {},
   "source": [
    "# Result\n",
    "\n",
    "** First 3 EOF modes **\n",
    "\n",
    "<img src=\"../../_publish/eof/EOF_mode1.png\" width=900 align=\"center\"/>\n",
    "<img src=\"../../_publish/eof/EOF_mode2.png\" width=900 align=\"center\"/>\n",
    "<img src=\"../../_publish/eof/EOF_mode3.png\" width=900 align=\"center\"/>"
   ]
  },
  {
   "cell_type": "markdown",
   "metadata": {},
   "source": [
    "# Discussion\n",
    "\n",
    "## Methods applied\n",
    "\n",
    "** Composite anomaly **\n",
    "\n",
    "* The difference between composites of high and low phases of a timeseries of a variable.\n",
    "* Here $PC > 1$ and $PC < -1$ are defined as high and low phases. \n",
    "* Here for all three modes, the definition above puts 25-35% of result into high/low phase composites (and 30-50% are neutral).\n",
    "* Two sample Student-t test is applied to estimate would \"high\" and \"low\" be in different totals.\n",
    "\n",
    "** Power spectrum **\n",
    "\n",
    "* Estimates the spectral power distribution (SPD) of a signal (here the PCs) on each frequency unit (here cycle per month). If a frequency band has the highest spectral power, then the PC has the biggest variability on that frequency.\n",
    "* Power spectrum is calculated through `numpy.fft.fft`.\n",
    "* (Red/White test can be applied, but so far don't know how to do that)\n",
    "\n",
    "** Correlation **\n",
    "\n",
    "* Traditional Pearson correlation (`scipy.stats.stats.pearsonr`). Significance are estimated by Student's t-distribution test."
   ]
  },
  {
   "cell_type": "markdown",
   "metadata": {},
   "source": [
    "## Mode I\n",
    "\n",
    "** Mode I spatial pattern and pc **\n",
    "\n",
    "<img src=\"../../_publish/eof/EOF_mode1.png\" width=900 align=\"center\"/>\n",
    "\n",
    "From the mode I spatial pattern:\n",
    "* Positive FWC anomaly at central Arctic, East Greenland Sea and CAA.\n",
    "* Negative FWC anomaly at Makarov Basin and coastal Canadia Basin.\n",
    "* The PC is highly correlated with the mean ocean velocity in TDS region, the later is considered as TDS intensity.\n",
    "* The power spectrum shows that the varibility of mode I is mainly on the 1/6 cpm frequency.  \n",
    "\n",
    "------------------------------\n",
    "\n",
    "** The physical meaning of mode I **\n",
    "\n",
    "<img src=\"../../_publish/eof/mode1_atmos.png\" width=900 align=\"center\"/>\n",
    "\n",
    "From the Composite anomaly of SLP:\n",
    "* Mode I co-occur with positive slp anomaly at Beaufort Sea, CAA, North Atlantic and negative anomaly at Eurasian Basin. \n",
    "* The composite anomaly of 2m-T has a positive pattern at Chukchi Sea and central Arctic which could potentially reduce the sea-ice cover.\n",
    "\n",
    "<img src=\"../../_publish/eof/mode1_ssh_emp.png\" width=900 align=\"center\"/>\n",
    "\n",
    "From the composite anomaly of ssh, ocean u/v and wind stress curl\n",
    "* ...............\n",
    "* ...............\n",
    "\n",
    "Considering the SLP anomaly pattern and the strong corr. between mode I PC and TDS intensity, the physical meaning of mode I could be dipole anomaly. \n",
    "\n",
    "------------------------------\n",
    "\n",
    "** Composite anomaly of tracers and tracer transport**\n",
    "\n",
    "<img src=\"../../_publish/eof/mode1_trc.png\" width=900 align=\"center\"/>\n",
    "\n",
    "From the Composite anomaly of $\\mathsf{Ba_d}$ and $\\mathsf{\\delta^{18}O}$:\n",
    "* Positive $\\mathsf{Ba_d}$ anomaly in the Central Arctic and coastal East Siberian Sea.\n",
    "* Negative $\\mathsf{Ba_d}$ anomaly in CAA and Makarov Basin.\n",
    "* Positive $\\mathsf{\\delta^{18}O}$ anomaly in central Arctic, Makarove Basin and coastal Laptev Sea.\n",
    "* Negative $\\mathsf{\\delta^{18}O}$ anomaly in CAA, East Greenland Sea and the region between 2 positive $\\mathsf{\\delta^{18}O}$ patterns\n",
    "\n",
    "<img src=\"../../_publish/eof/mode1_adv.png\" width=900 align=\"center\"/>\n"
   ]
  },
  {
   "cell_type": "markdown",
   "metadata": {},
   "source": [
    "** Mode 1 is under the impact of Arctic atmospheric Dipole Anomaly (DA)**\n",
    "\n",
    "**What is DA**\n",
    "+ **DA** played an important role in the summer 2007 sea-ice minimum.\n",
    "+ Defined as the second mode of 20N-90N monthly mean SLP EOF\n",
    "    - Wu et al. (2006)\n",
    ">   <img src=\"../../_figures/DA_Wu2006.PNG\" width=250 align=\"left\"/>\n"
   ]
  },
  {
   "cell_type": "markdown",
   "metadata": {},
   "source": [
    "**Why mode 1 is DA**\n",
    "+ The SLP composite anomaly shows a **DA**-like pattern.\n",
    "+ Mode 1 has good correlation with TDS intensity, The correlation between TDS intensity and SLP/GPH show a **DA**-like pattern.\n",
    "    - According to Wang et al. (2009): \n",
    "    >During a positive phase of the DA (i.e., the SLP has a positive anomaly in the Canadian Archipelago and negative one in the Barents Sea), the anomalous meridional wind blows from the western to the eastern Arctic, favorable to the Trans-polar Drift Stream (TDS) that flushes sea ice out of the Arctic into the Barents and Greenland seas. [Wu et al., 2006; Watanabe et al., 2006]  \n",
    "+ Both mode 1 and **DA** were significant from 2007-2008 (Wang et al., 2009)."
   ]
  },
  {
   "cell_type": "markdown",
   "metadata": {},
   "source": [
    "[1] *Wu et al. (2006), Dipole Anomaly in the winter Arctic atmosphere and its association with Arctic sea ice motion. J. Climate, **19**.*\n",
    "\n",
    "[2] *Watanabe et al. (2006), Arctic dipole anomaly and its contribution to sea ice export from the Arctic Ocean in the 20th century, Geophys. Res. Lett., **33**(L23703).*\n",
    "\n",
    "[3] *Wang et al. (2009), Is the Dipole Anomaly a major driver to record lows in Arctic summer sea ice extent?. Geophys. Res. Lett. **36**(5) .*"
   ]
  },
  {
   "cell_type": "markdown",
   "metadata": {},
   "source": [
    "Under the control of **DA**, the surface ocean shows the following change:\n",
    "* Very strong TDS\n",
    "* Stronger \"conveyor belt\" from Laptev Sea to Central Arctic and Beaufort Gyre.\n",
    "* Stronger off shore current at Beaufort Sea continental shelf.\n",
    "* Strong Beaufort Gyre.\n",
    "* Anti-cyclonic flow anomaly at CAA, weaker BG-Baffin Bay flow.\n",
    "* Stronger eastward flow at EU continental shelf.\n",
    "* Less Pacific inflow\n",
    "\n",
    "\n",
    "For sea-ice:\n",
    "* **DA** enhances south wind, makes air temp. higher, more Sea-ice melt at central Arctic and Kara Sea\n",
    "* No significant SST change, can only be found in air temp. "
   ]
  },
  {
   "cell_type": "markdown",
   "metadata": {},
   "source": [
    "Under the control of **DA**:\n",
    "* More NA runoff goes to TDS and BG less will go to CAA\n",
    "* More EU runoff goes to TDS and BG\n",
    "* More runoff in East Siberian Sea, but less Pacific inflow, FWC balanced.\n",
    "* More sea-ice melt water in Central Arctic.\n",
    "* In total, more liquid FW goes to North Atlantic under positive **DA** phase"
   ]
  },
  {
   "cell_type": "markdown",
   "metadata": {},
   "source": [
    "<img src=\"../../_figures/mode1_draft.jpg\" width=500 align=\"center\"/>"
   ]
  },
  {
   "cell_type": "markdown",
   "metadata": {},
   "source": [
    "## Second mode: interannual NAO signal"
   ]
  },
  {
   "cell_type": "markdown",
   "metadata": {},
   "source": [
    "* Negative correlated (-0.27, 0.01) with Beaufort Sea SSH.\n",
    "* Not a significant with other feature/indx."
   ]
  },
  {
   "cell_type": "markdown",
   "metadata": {},
   "source": [
    "* Not significantly correlated (0.13, 0.13) with NAO index.\n",
    "* Positively correlated (0.51/0.37, 0.01) with 24-month centered/backward moving averaged NAO index."
   ]
  },
  {
   "cell_type": "markdown",
   "metadata": {},
   "source": [
    "<img src=\"../../_publish/eof/EOF_mode2.png\" width=900 align=\"center\"/>\n",
    "\n",
    "------------------------------\n",
    "\n",
    "** The physical meaning of mode I **\n",
    "\n",
    "<img src=\"../../_publish/eof/mode2_atmos.png\" width=900 align=\"center\"/>\n",
    "<img src=\"../../_publish/eof/mode2_ssh_emp.png\" width=900 align=\"center\"/>\n",
    "\n",
    "------------------------------\n",
    "\n",
    "** Composite anomaly of tracers and tracer transport**\n",
    "\n",
    "<img src=\"../../_publish/eof/mode2_trc.png\" width=900 align=\"center\"/>\n",
    "<img src=\"../../_publish/eof/mode2_adv.png\" width=900 align=\"center\"/>"
   ]
  },
  {
   "cell_type": "code",
   "execution_count": 38,
   "metadata": {
    "collapsed": true
   },
   "outputs": [],
   "source": [
    "# # AO\n",
    "# MAT = scipy.io.loadmat('../../_data/Exchange/NOAA-CPC_AO.mat')\n",
    "# AO_NOAA = MAT['data'][((2002-1950)*12):((2013-1950)*12+12), 2]\n",
    "# MAT = scipy.io.loadmat('../../_data/Exchange/NOAA-CPC_NAO.mat')\n",
    "# NAO_NOAA= MAT['data'][((2002-1950)*12):((2015-1950)*12+12), 2]\n",
    "# NAO_NOAA2= MAT['data'][((2001-1950)*12):((2014-1950)*12+12), 2]\n",
    "# MAT = scipy.io.loadmat('../../_data/Exchange/AO_inds.mat')\n",
    "# AO_ANHA4 = MAT['AO_index'][0, :]\n",
    "# # array NAO_NOAA iss from 2000-2013\n",
    "# NAO_RM1 = np.zeros([144]); NAO_RM1[NAO_RM1==0]=np.nan\n",
    "# for i in range(144): \n",
    "#     NAO_RM1[i] = np.mean(NAO_NOAA[i:i+24])\n",
    "# NAO_RM2 = np.zeros([144]); NAO_RM2[NAO_RM2==0]=np.nan\n",
    "# NAO_RM2[:] = np.convolve(NAO_NOAA2, np.ones((24,))/24.0, mode='valid')[1:]"
   ]
  },
  {
   "cell_type": "code",
   "execution_count": 39,
   "metadata": {
    "collapsed": false
   },
   "outputs": [],
   "source": [
    "# fig = plt.figure(figsize=(14, 4))\n",
    "# ax = fig.gca()\n",
    "# ax.grid(linestyle=':')\n",
    "# ax.yaxis.grid(False)\n",
    "# ax.spines[\"top\"].set_visible(False)\n",
    "# ax.spines[\"bottom\"].set_visible(False) \n",
    "# ax.spines[\"right\"].set_visible(False)\n",
    "# ax.set_xlim([date_list[0], date_list[143]])\n",
    "# ax.set_ylim([-2.5, 2.5])\n",
    "# ax.set_ylabel('NAO Index', fontsize=14)\n",
    "# ax.xaxis.set_tick_params(labelsize=14)\n",
    "# ax.yaxis.set_tick_params(labelsize=14)\n",
    "# [i.set_linewidth(2.5) for i in ax.spines.itervalues()] \n",
    "# ax.tick_params(axis=\"both\", which=\"both\", bottom=\"off\", top=\"off\",    \n",
    "#             labelbottom=\"on\", left=\"off\", right=\"off\", labelleft=\"on\")\n",
    "\n",
    "# ax.plot(date_list, NAO_NOAA[12:-12], color='gray', ls='-', lw=2, label='original')\n",
    "# ax.plot(date_list, NAO_RM1, 'k-', lw=3.5, label='Backward moving averaged')\n",
    "# ax.plot(date_list, NAO_RM2, 'k--', lw=3.5, label='Centered moving averaged')\n",
    "\n",
    "# LG = ax.legend(numpoints=1, bbox_to_anchor=(0.05, 1.0), loc=2, borderaxespad=0., prop={'size':14}); LG.draw_frame(False)\n",
    "# ax.set_title('Original index v.s. Moving averaged index', fontsize=16)"
   ]
  },
  {
   "cell_type": "markdown",
   "metadata": {},
   "source": [
    "**Mode 2 is controled by the Interannual varibility of North Atlantic Oscillation (NAO)**\n",
    "\n",
    "**Typical NAO patterns** \n",
    "<img src=\"../../_figures/NAO_Hilmer.PNG\" width=800 align=\"center\"/> *Hilmer, M. and T. Jung (2000) Evidence for a recent change in the link between the North Atlantic Oscillation and Arctic sea ice export. Geophys. Res. Lett. **27**(7): 989-992.*\n",
    "\n",
    "* ANHA4-GDPS SLP composite anomaly shows a NAO-like pattern.\n",
    "* It is interannual varibility is because Mode 2 PC is possitivly correlated with 24-month moving averaged NAO index."
   ]
  },
  {
   "cell_type": "markdown",
   "metadata": {},
   "source": [
    "In mode 2 case:\n",
    "* The western side of Beaufort Gyre is spined down, but the eastern side is intensified.\n",
    "* Anti-cyclonic flow in Chukchi Sea \n",
    "* Stronger transport from Canada Basin to Baffin Bay.\n",
    "* Stronger transport from Laptev Sea to Chukchi Sea."
   ]
  },
  {
   "cell_type": "code",
   "execution_count": 55,
   "metadata": {
    "collapsed": false
   },
   "outputs": [
    {
     "data": {
      "text/plain": [
       "<matplotlib.text.Text at 0x7f646c8abe50>"
      ]
     },
     "execution_count": 55,
     "metadata": {},
     "output_type": "execute_result"
    },
    {
     "data": {
      "image/png": "[encoded data removed]",
      "text/plain": [
       "<matplotlib.figure.Figure at 0x7f646ca15c90>"
      ]
     },
     "metadata": {},
     "output_type": "display_data"
    }
   ],
   "source": [
    "# ETOPO2_Arctic=scipy.io.loadmat('../../_libs/ETOPO2_Arctic.mat')\n",
    "# ETOPO2_CAA=scipy.io.loadmat('../../_libs/ETOPO2_CAA.mat')\n",
    "# lon_arctic=ETOPO2_Arctic['lon_arctic']\n",
    "# lat_arctic=ETOPO2_Arctic['lat_arctic']\n",
    "# topo_arctic=ETOPO2_Arctic['topo_arctic']\n",
    "# res_unit=3\n",
    "# lon_arctic=lon_arctic[0:-1:res_unit, 0:-1:res_unit]\n",
    "# lat_arctic=lat_arctic[0:-1:res_unit, 0:-1:res_unit]\n",
    "# topo_arctic=topo_arctic[0:-1:res_unit, 0:-1:res_unit]*-1 \n",
    "# #\n",
    "# SSH_p = np.nanmean(ssh_ori[PC[1, :]>0, :, :], 0); SSH_p[nav_lat<71.5]=np.nan\n",
    "# SSH_n = np.nanmean(ssh_ori[PC[1, :]<-0, :, :], 0); SSH_n[nav_lat<71.5]=np.nan\n",
    "# #\n",
    "# fig=plt.figure(figsize=(8, 8));\n",
    "# ax1 = fig.gca()\n",
    "# proj = Basemap(llcrnrlon=-170., llcrnrlat=60., urcrnrlon=-110., urcrnrlat=80.,\n",
    "#                resolution='l',area_thresh=1000.,projection='lcc', lat_1=60.,lat_2=80.,lat_0=75.,lon_0=-140., ax=ax1)\n",
    "# proj.fillcontinents(color='0.8', lake_color=None)\n",
    "# proj.drawcoastlines(linewidth=0.5, color='k')\n",
    "\n",
    "# x, y = proj(nav_lon, nav_lat)\n",
    "# topox, topoy=proj(lon_arctic, lat_arctic)\n",
    "# CS = proj.contourf(x, y, SSH_n, [-0.37, 0], hatches=['//', ' '], colors='none', zorder=4)\n",
    "# proj.contour(x, y, SSH_n, [-0.37], linewidths=2.5, colors='k', zorder=4)\n",
    "# proj.contourf(x, y, SSH_p, [-0.37, 0], hatches=['...', ' '], colors='none', zorder=4)\n",
    "# proj.contour(x, y, SSH_p, [-0.37], linewidths=2.5, linestyles='-', colors='k', zorder=4)\n",
    "# proj.contour(topox, topoy, topo_arctic, [100, 500, 1000], colors=('gray',), linewidths=1.5)\n",
    "# ax1.set_title('Same as above, more like a sketch', fontsize=16)"
   ]
  },
  {
   "cell_type": "markdown",
   "metadata": {},
   "source": [
    "* NA runoff goes to CAA and Baffin Bay.\n",
    "* East Siberian Sea runoff goes to Laptev Sea.\n",
    "* Runoff in Laptev Sea goes to the shifted Beaufort Gyre and heading Fram Strait\n",
    "* More Pacific inflow accumulates in Chukchi Sea.\n",
    "<img src=\"../../_figures/mode2_draft.jpg\" width=500 align=\"center\"/>"
   ]
  },
  {
   "cell_type": "markdown",
   "metadata": {},
   "source": [
    "## Third Mode: Synoptic scale Beaufort Sea High"
   ]
  },
  {
   "cell_type": "markdown",
   "metadata": {},
   "source": [
    "* **Very good positive** (0.53, 0.01) with Beaufort Gyre SSH"
   ]
  },
  {
   "cell_type": "markdown",
   "metadata": {},
   "source": [
    "<img src=\"../../_publish/eof/EOF_mode3.png\" width=900 align=\"center\"/>\n",
    "\n",
    "------------------------------\n",
    "\n",
    "** The physical meaning of mode I **\n",
    "\n",
    "<img src=\"../../_publish/eof/mode3_atmos.png\" width=900 align=\"center\"/>\n",
    "<img src=\"../../_publish/eof/mode3_ssh_emp.png\" width=900 align=\"center\"/>\n",
    "\n",
    "------------------------------\n",
    "\n",
    "** Composite anomaly of tracers and tracer transport**\n",
    "\n",
    "<img src=\"../../_publish/eof/mode3_trc.png\" width=900 align=\"center\"/>\n",
    "<img src=\"../../_publish/eof/mode3_adv.png\" width=900 align=\"center\"/>"
   ]
  },
  {
   "cell_type": "markdown",
   "metadata": {},
   "source": [
    "Mode 3 is characterized by a **strong Beaufort Sea High (BSH)** "
   ]
  },
  {
   "cell_type": "markdown",
   "metadata": {},
   "source": [
    "In mode 3 case:\n",
    "* Strong Beaufort Gyre\n",
    "* Weaker transport from Canada Basin to Baffin Bay "
   ]
  },
  {
   "cell_type": "markdown",
   "metadata": {},
   "source": [
    "* In general, freshwater is hold by BG and less goes to Atlantic Ocean\n",
    "* NA runoff accumulates in BG and partially being transported to the East Siberian Sea\n",
    "* East Siberian Sea and Laptev Sea runoff are accumulating. \n",
    "* The total transport of NA runoff through CAA is reduced.\n",
    "\n",
    "<img src=\"../../_figures/mode3_draft.jpg\" width=500 align=\"center\"/>"
   ]
  },
  {
   "cell_type": "code",
   "execution_count": null,
   "metadata": {
    "collapsed": true
   },
   "outputs": [],
   "source": []
  }
 ],
 "metadata": {
  "hide_input": true,
  "kernelspec": {
   "display_name": "Python 2",
   "language": "python",
   "name": "python2"
  },
  "language_info": {
   "codemirror_mode": {
    "name": "ipython",
    "version": 2
   },
   "file_extension": ".py",
   "mimetype": "text/x-python",
   "name": "python",
   "nbconvert_exporter": "python",
   "pygments_lexer": "ipython2",
   "version": "2.7.12"
  },
  "toc_position": {
   "height": "537px",
   "left": "0px",
   "right": "1154px",
   "top": "106px",
   "width": "212px"
  }
 },
 "nbformat": 4,
 "nbformat_minor": 0
}
