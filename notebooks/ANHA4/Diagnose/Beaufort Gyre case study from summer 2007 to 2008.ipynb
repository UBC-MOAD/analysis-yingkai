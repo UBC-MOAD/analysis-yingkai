{
 "cells": [
  {
   "cell_type": "markdown",
   "metadata": {},
   "source": [
    "# Beaufort Gyre case study 2007-2008"
   ]
  },
  {
   "cell_type": "markdown",
   "metadata": {},
   "source": [
    "This notebook shows the part of Beaufort Gyre case study from Aug. 2007 to Sep. 2008.\n",
    "\n",
    "--------------\n",
    "**The difinition of Beaufort Gyre**: The anti-cyclonic surface circulation in the Beaufort Sea, Canada Basin."
   ]
  },
  {
   "cell_type": "markdown",
   "metadata": {},
   "source": [
    "<img src=\"../../_publish/case_study/BG_position.png\" width=\"500\" align=\"left\"/>\n",
    "\n",
    "(draft) **Fig.1**: The location and 2002-2013 mean circulation of Beaufort Gyre. Flow field calculated from ANHA4-EXH005 experiment, and depth weighted averaged from 1.05 to 130m."
   ]
  },
  {
   "cell_type": "markdown",
   "metadata": {},
   "source": [
    "## Focused time range & Motivation\n",
    "\n",
    "The IPY airborn hydrographic survey in Mar-Apr 2008 shows a significant net increase of FWC in the Beaufort Gyre *(McPhee et al., 2009)*. \n",
    "\n",
    "Meanwhile by using the 2007 atmospheric forcing, 6 AOMIP models all show a steady increase of FWC in Beaufort Gyre. *(Proshutinsky, 2011)*  \n",
    "\n",
    "In the ANHA4-EXH005 experiment, Nov-Dec 2007 Beaufort Gyre FWC anomaly is the highest in 2002-2013 range, and the maximum sea surface height, which is an indicator of the intensity of Beaufort Gyre circulation reaches the strongest state in about the same time. *(See Fig.2)* \n",
    "\n",
    "This is important beause the storage/release of Beaufort Gyre freshwater affects the stratification condition in Greenland, Ice land and Nordic (GIN) seas and potentially affects the overturnning circulation.\n",
    "\n",
    "-----------------\n",
    "\n",
    "<img src=\"../../_publish/case_study/case_timeseries.png\" width=950 align=\"center\"/>\n",
    "\n",
    "**Fig.2**: Total freshwater volumn in Beaufort Gyre above 130m (black solid line with left axis). Maximum sea surface height in Beaufort Gyre (dark blue dashed line with right axis). Both are calculated from the same model output as **FIg.1**."
   ]
  },
  {
   "cell_type": "markdown",
   "metadata": {},
   "source": [
    "------------\n",
    "\n",
    "McPhee, M. G., et al. (2009) Rapid change in freshwater content of the Arctic Ocean. Geophysical Research Letters. **36**(10). \n",
    "\n",
    "Proshutinsky, A., et al. (2011) Recent advances in Arctic ocean studies employing models from the Arctic Ocean Model Intercomparison Project. Oceanographc. **24**(3):107"
   ]
  },
  {
   "cell_type": "markdown",
   "metadata": {},
   "source": [
    "## Different thoughts about this event"
   ]
  },
  {
   "cell_type": "markdown",
   "metadata": {},
   "source": [
    "\n",
    "**(1) Ekman convergence**\n",
    "\n",
    "By using different in suit observations in the Beaufort Sea, *Proshutinsky et al., (2009)* found that, from 2002-2007, the atmospheric near surface wind curl is a direct impact factor of the FWC in the Beaufort. This is confirmed by reanalysis atmospheric wind field and satellite based dynamic ocean topography *(Giles et al., 2012)*. This theory is summerized as \"flywheel\" *(Proshutinsky et al., 2002)*.\n",
    "\n",
    "**(2) Eurasian runoff transport**\n",
    "\n",
    "*Morison et al., (2012)* found that, from 2005 to 2008, the increase of FWC in Canada Basin is balanced by the decrease in Eurasian Basins. And the biggest increase of freshwater component in Canada Basin is meteoric water. Thus they suggested that, the increase of positive phase AO (as indicated by AO index) from 1989 to 2008 makes the Arctic Ocean more cyclonic, and moves Eurasian runoff to Beaufort Sea."
   ]
  },
  {
   "cell_type": "markdown",
   "metadata": {},
   "source": [
    "-------------\n",
    "\n",
    "Proshutinsky, A., et al. (2009) Beaufort Gyre freshwater reservoir: State and variability from observations.\" Journal of Geophysical Research: Oceans **114**(C1).\n",
    "\n",
    "Giles, K. A., et al. (2012) Western Arctic Ocean freshwater storage increased by wind-driven spin-up of the Beaufort Gyre.\" Nature Geoscience **5**(3): 194-197.\n",
    "\n",
    "Proshutinsky, A., et al. (2002) The role of the Beaufort Gyre in Arctic climate variability: Seasonal to decadal climate scales. Geophysical Research Letters **29**(23).\n",
    "\n",
    "Morison, J., et al. (2012) Changing arctic ocean freshwater pathways. Nature **481**(7379): 66-70."
   ]
  },
  {
   "cell_type": "markdown",
   "metadata": {},
   "source": [
    "## The goal of my diagnoses"
   ]
  },
  {
   "cell_type": "markdown",
   "metadata": {},
   "source": [
    "**Goal**\n",
    "\n",
    "* Connecting the typical pan-Arctic anomalous patterns with a specific regional case.\n",
    "* Then provide a new hypothesis to the varibility of Beaufort Gyre freshwater.\n",
    "* Vertify the existence of EU runoff in BG by linear mixing model (d18O, Ba, Salinity).\n",
    "\n",
    "What I really think: \n",
    "\n",
    "(1) EOF is still a statistical based data analysis method, just EOF+explaination does not provide enough science.\n",
    "\n",
    "(2) All Ba/d18O fieldwork papers have linear mixing model, I should also find a place to include that stuff.\n",
    "\n",
    "(3) Ba is not a \"popular\" tracer, I need something to prove that this is unique."
   ]
  },
  {
   "cell_type": "markdown",
   "metadata": {},
   "source": [
    "## Anomaly patterns"
   ]
  },
  {
   "cell_type": "markdown",
   "metadata": {},
   "source": [
    "* In the summer 2007, strong slp Diapole Anomaly (DA) pattern freshened the Transpolar Drift (as EOF mode 1).\n",
    "* From winter 2007 to spring 2008, the anticyclonic wind above BG got stronger (like mode 3).\n",
    "* The strong anticyclonic wind intensifies the BG, and the extra strong BG gathered the freshwater in the TDS.\n",
    "* Since summer 2008, BG spined-down by the atmosoheric wind, this case ends."
   ]
  },
  {
   "cell_type": "markdown",
   "metadata": {},
   "source": [
    "### Stage I"
   ]
  },
  {
   "cell_type": "markdown",
   "metadata": {},
   "source": [
    "<img src=\"../../_publish/case_study/case_2008_stage1_01.png\" width=900 align=\"center\"/>\n",
    "<img src=\"../../_publish/case_study/case_2008_stage1_02.png\" width=900 align=\"center\"/>\n",
    "<img src=\"../../_publish/case_study/case_2008_stage1_03.png\" width=900 align=\"center\"/>"
   ]
  },
  {
   "cell_type": "markdown",
   "metadata": {
    "collapsed": true
   },
   "source": [
    "### Stage II"
   ]
  },
  {
   "cell_type": "markdown",
   "metadata": {},
   "source": [
    "<img src=\"../../_publish/case_study/case_2008_stage2_01.png\" width=900 align=\"center\"/>\n",
    "<img src=\"../../_publish/case_study/case_2008_stage2_02.png\" width=900 align=\"center\"/>"
   ]
  },
  {
   "cell_type": "markdown",
   "metadata": {
    "collapsed": true
   },
   "source": [
    "### Stage III"
   ]
  },
  {
   "cell_type": "markdown",
   "metadata": {},
   "source": [
    "<img src=\"../../_publish/case_study/case_2008_stage3_01.png\" width=900 align=\"center\"/>\n",
    "<img src=\"../../_publish/case_study/case_2008_stage3_02.png\" width=900 align=\"center\"/>"
   ]
  },
  {
   "cell_type": "markdown",
   "metadata": {},
   "source": [
    "## Linear mixing model "
   ]
  },
  {
   "cell_type": "markdown",
   "metadata": {},
   "source": [
    "*Alkire et al. (2010)* Found the evidence of Eurasian runoff in Beaufort Sea halocline, and *Morison et al. (2012)* provided that, the increase of EU runoff in BG in 2005-2008 contributes to the FWC anomaly.\n",
    "\n",
    "Here By using the 4-component (Ocean, NA runoff, EU runoff, sea-ice melt) linear mixing model with modelled d18O, Ba and ANHA4-EXH005 salinity, we comfirmed the insights from *Alkire et al. (2010)* and *Morison et al. (2012)*.\n",
    "\n",
    "### My linear mixing model set-up"
   ]
  },
  {
   "cell_type": "markdown",
   "metadata": {},
   "source": [
    "| Tracer   | NA runoff | EU runoff | Sea ice-melt | Ocean |\n",
    "|----------|-----------|-----------|--------------|-------|\n",
    "| Salinity | 0.0       | 0.0       |*0.0 - 4.0*   | *32 - 34.8* |\n",
    "| Dissolved Ba | **379.08** | **117.67** |**0.0** | 57.0 *(Taylor et al., 2003)* |\n",
    "| $\\mathsf{\\delta^{18}O}$ | **-19.76** | **-19.61** | **1.5** | 0.0 (VSMOW) |"
   ]
  },
  {
   "cell_type": "markdown",
   "metadata": {},
   "source": [
    "* **bold**: CCAR Tracer model set-up, cannot be changed.\n",
    "* (VSMOW): Standard.\n",
    "* *0.0-4.0*: Value with uncertainties"
   ]
  },
  {
   "cell_type": "markdown",
   "metadata": {},
   "source": [
    "---------------\n",
    "\n",
    "Alkire, Matthew B., et al. (2010) Sensor-based profiles of the NO parameter in the central Arctic and southern Canada Basin: New insights regarding the cold halocline.\" Deep Sea Research Part I: Oceanographic Research Papers **57**(11): 1432-1443."
   ]
  },
  {
   "cell_type": "markdown",
   "metadata": {},
   "source": [
    "<img src=\"../../_publish/case_study/linear_mix_timeseries.png\" width=800 align=\"left\"/>"
   ]
  },
  {
   "cell_type": "markdown",
   "metadata": {
    "collapsed": true
   },
   "source": [
    "## Summary, comparing with previous researches\n",
    "\n",
    "(1) In the 2007-2008 case, Ekman convergence is the key of positive BG freshwater anomaly. *Proshutinsky et al., (2009)* is right.\n",
    "\n",
    "(2) This is not just a localized Ekman convergence, because the pre-existing DA pattern brings Eurasian runoff to the North American side TDS. This consists with *Morison et al., (2012)*'s findings, but the reason is not Arctic Oscillation.\n",
    "\n",
    "(3) Not all cases can be explained by this mode1->mode3 shift."
   ]
  },
  {
   "cell_type": "code",
   "execution_count": null,
   "metadata": {
    "collapsed": true
   },
   "outputs": [],
   "source": []
  }
 ],
 "metadata": {
  "kernelspec": {
   "display_name": "Python 2",
   "language": "python",
   "name": "python2"
  },
  "language_info": {
   "codemirror_mode": {
    "name": "ipython",
    "version": 2
   },
   "file_extension": ".py",
   "mimetype": "text/x-python",
   "name": "python",
   "nbconvert_exporter": "python",
   "pygments_lexer": "ipython2",
   "version": "2.7.12"
  }
 },
 "nbformat": 4,
 "nbformat_minor": 0
}
