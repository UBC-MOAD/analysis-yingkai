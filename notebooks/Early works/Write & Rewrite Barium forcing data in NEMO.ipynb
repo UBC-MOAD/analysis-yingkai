{
 "cells": [
  {
   "cell_type": "markdown",
   "metadata": {},
   "source": [
    "# Write & Rewrite Barium forcing data in NEMO"
   ]
  },
  {
   "cell_type": "markdown",
   "metadata": {},
   "source": [
    "The notebook writes all necessary variables into netCDF4 to run the model. The correspond script is `_script/Create_netCDF4.py`. "
   ]
  },
  {
   "cell_type": "code",
   "execution_count": 1,
   "metadata": {
    "collapsed": false
   },
   "outputs": [],
   "source": [
    "import glob\n",
    "import scipy.io\n",
    "import numpy as np\n",
    "import netCDF4 as nc\n",
    "from __future__ import print_function\n",
    "% matplotlib inline"
   ]
  },
  {
   "cell_type": "markdown",
   "metadata": {},
   "source": [
    "#ORCA2"
   ]
  },
  {
   "cell_type": "markdown",
   "metadata": {},
   "source": [
    "## River source"
   ]
  },
  {
   "cell_type": "code",
   "execution_count": 2,
   "metadata": {
    "collapsed": false
   },
   "outputs": [],
   "source": [
    "# Ba\n",
    "Ba_name=glob.glob('_data/Exchange/Ba_ORCA2_SRC.mat')\n",
    "Ba_Mat=scipy.io.loadmat(Ba_name[0])\n",
    "Ba_ORCA2_2deg=Ba_Mat['Ba_ORCA2_2deg']\n",
    "nav_lon=Ba_Mat['nav_lon']\n",
    "nav_lat=Ba_Mat['nav_lat']\n",
    "# d18O\n",
    "d18O_name=glob.glob('_data/Exchange/d18O_ORCA2_SRC.mat')\n",
    "d18O_Mat=scipy.io.loadmat(d18O_name[0])\n",
    "d18O_ORCA2_2deg=d18O_Mat['d18O_ORCA2_2deg']"
   ]
  },
  {
   "cell_type": "markdown",
   "metadata": {},
   "source": [
    "** Get `time_counter` from Xianmin's original file. **"
   ]
  },
  {
   "cell_type": "code",
   "execution_count": 6,
   "metadata": {
    "collapsed": false
   },
   "outputs": [],
   "source": [
    "#ANHA4_name=glob.glob('_data/NEMO/ANHA4_runoff_monthly_DaiTrenberth_fewPTs.nc')\n",
    "#ANH4_obj=nc.Dataset(ANHA4_name[0])\n",
    "#time_counter=ANH4_obj.variables['time_counter'][:]\n",
    "time_counter = [  15.,   46.,   75.,  106.,  136.,  167.,  197.,  228.,  259.,  289.,  320.,  350.]"
   ]
  },
  {
   "cell_type": "code",
   "execution_count": 7,
   "metadata": {
    "collapsed": false
   },
   "outputs": [
    {
     "name": "stdout",
     "output_type": "stream",
     "text": [
      "[15.0, 46.0, 75.0, 106.0, 136.0, 167.0, 197.0, 228.0, 259.0, 289.0, 320.0, 350.0]\n"
     ]
    }
   ],
   "source": [
    "print(time_counter)"
   ]
  },
  {
   "cell_type": "code",
   "execution_count": 5,
   "metadata": {
    "collapsed": false
   },
   "outputs": [
    {
     "name": "stdout",
     "output_type": "stream",
     "text": [
      "NETCDF4\n"
     ]
    }
   ],
   "source": [
    "nc_obj = nc.Dataset('_data/Exchange/TRC_ORCA2_SRC.nc', 'w') # format='NETCDF4'\n",
    "nc_obj.description = 'River sources of Barium concentration in Arctic'\n",
    "print(nc_obj.file_format)"
   ]
  },
  {
   "cell_type": "code",
   "execution_count": 6,
   "metadata": {
    "collapsed": false
   },
   "outputs": [
    {
     "data": {
      "text/plain": [
       "(12L, 149L, 182L)"
      ]
     },
     "execution_count": 6,
     "metadata": {},
     "output_type": "execute_result"
    }
   ],
   "source": [
    "Ba_ORCA2_2deg.shape"
   ]
  },
  {
   "cell_type": "code",
   "execution_count": 7,
   "metadata": {
    "collapsed": false
   },
   "outputs": [],
   "source": [
    "time=nc_obj.createDimension('time', None)\n",
    "lat=nc_obj.createDimension('lat', 149)\n",
    "lon=nc_obj.createDimension('lon', 182)"
   ]
  },
  {
   "cell_type": "code",
   "execution_count": 8,
   "metadata": {
    "collapsed": false
   },
   "outputs": [
    {
     "name": "stdout",
     "output_type": "stream",
     "text": [
      "True\n"
     ]
    }
   ],
   "source": [
    "print(time.isunlimited())"
   ]
  },
  {
   "cell_type": "code",
   "execution_count": 9,
   "metadata": {
    "collapsed": false
   },
   "outputs": [],
   "source": [
    "time_counter_obj=nc_obj.createVariable('time_counter', np.float32, ('time',), zlib=True)\n",
    "BaVar_obj=nc_obj.createVariable('Ba_ORCA2_2deg', np.float64, ('time', 'lat', 'lon'), zlib=True)\n",
    "d18OVar_obj=nc_obj.createVariable('d18O_ORCA2_2deg', np.float64, ('time', 'lat', 'lon'), zlib=True)\n",
    "nav_lat_obj=nc_obj.createVariable('nav_lat', np.float64, ('lat', 'lon'), zlib=True)\n",
    "nav_lon_obj=nc_obj.createVariable('nav_lon', np.float64, ('lat', 'lon'), zlib=True)"
   ]
  },
  {
   "cell_type": "code",
   "execution_count": 10,
   "metadata": {
    "collapsed": false
   },
   "outputs": [],
   "source": [
    "time_counter_obj[:]=time_counter\n",
    "BaVar_obj[:]=Ba_ORCA2_2deg\n",
    "d18OVar_obj[:]=d18O_ORCA2_2deg\n",
    "nav_lat_obj[:]=nav_lat\n",
    "nav_lon_obj[:]=nav_lon"
   ]
  },
  {
   "cell_type": "code",
   "execution_count": 11,
   "metadata": {
    "collapsed": false
   },
   "outputs": [],
   "source": [
    "nc_obj.close()"
   ]
  },
  {
   "cell_type": "markdown",
   "metadata": {
    "collapsed": true
   },
   "source": [
    "## Initial field"
   ]
  },
  {
   "cell_type": "code",
   "execution_count": 12,
   "metadata": {
    "collapsed": false
   },
   "outputs": [],
   "source": [
    "MAT = scipy.io.loadmat('_data/Exchange/NEMO_ORCA2_Ba.mat')\n",
    "Ba_orca = MAT['Ba_ini_orca'][:]\n",
    "MAT = scipy.io.loadmat('_data/Exchange/NEMO_ORCA2_d18O.mat')\n",
    "d18O_orca = MAT['d18O_ini_orca'][:]\n",
    "#Ba_orca[np.isnan(Ba_orca)] = -999\n",
    "d18O_name=glob.glob('_data/Exchange/NEMO_ORCA2_d18O_Grid.mat')\n",
    "d18O_Mat=scipy.io.loadmat(d18O_name[0])\n",
    "d18O_grid=d18O_Mat['d18O_grid_orca']\n",
    "\n",
    "boundary_name=glob.glob('_data/Exchange/TRC_BOUND.mat')\n",
    "Boundary_Mat=scipy.io.loadmat(boundary_name[0])\n",
    "Ba_boundary=Boundary_Mat['Ba']\n",
    "d18O_boundary=Boundary_Mat['d18O']"
   ]
  },
  {
   "cell_type": "code",
   "execution_count": 13,
   "metadata": {
    "collapsed": false
   },
   "outputs": [
    {
     "name": "stdout",
     "output_type": "stream",
     "text": [
      "NETCDF4\n"
     ]
    }
   ],
   "source": [
    "ini_obj = nc.Dataset('_data/Exchange/TRC_ORCA2_Nomask.nc', 'w') # format='NETCDF4'\n",
    "#ini_obj.description = 'Barium Initial Field'\n",
    "print(ini_obj.file_format)"
   ]
  },
  {
   "cell_type": "code",
   "execution_count": 14,
   "metadata": {
    "collapsed": false
   },
   "outputs": [],
   "source": [
    "time=ini_obj.createDimension('time', None)\n",
    "lev = ini_obj.createDimension('lev', 31)\n",
    "lat=ini_obj.createDimension('lat', 149)\n",
    "lon=ini_obj.createDimension('lon', 182)"
   ]
  },
  {
   "cell_type": "code",
   "execution_count": 15,
   "metadata": {
    "collapsed": false
   },
   "outputs": [],
   "source": [
    "time_counter_obj=ini_obj.createVariable('time_counter', np.float32, ('time',), zlib=True)\n",
    "BaVar_obj=ini_obj.createVariable('Ba', np.float64, ('time', 'lev', 'lat', 'lon'), zlib=True)\n",
    "d18OVar_obj=ini_obj.createVariable('d18O', np.float64, ('time', 'lev', 'lat', 'lon'), zlib=True)\n",
    "d18OGVar_obj=ini_obj.createVariable('d18O_grid', np.float64, ('time', 'lev', 'lat', 'lon'), zlib=True)\n",
    "BaBVar_obj=ini_obj.createVariable('Ba_boundary', np.float64, ('time', 'lev', 'lat', 'lon'), zlib=True)\n",
    "d18OBVar_obj=ini_obj.createVariable('d18O_boundary', np.float64, ('time', 'lev', 'lat', 'lon'), zlib=True)\n",
    "nav_lat_obj=ini_obj.createVariable('nav_lat', np.float64, ('lat', 'lon'), zlib=True)\n",
    "nav_lon_obj=ini_obj.createVariable('nav_lon', np.float64, ('lat', 'lon'), zlib=True)"
   ]
  },
  {
   "cell_type": "code",
   "execution_count": 16,
   "metadata": {
    "collapsed": false
   },
   "outputs": [],
   "source": [
    "#\n",
    "Ba = np.empty([1, 31, 149, 182])\n",
    "Ba[0, :, :, :] = Ba_orca\n",
    "\n",
    "BaB = np.empty([1, 31, 149, 182])\n",
    "BaB[0, :, :, :] = Ba_boundary\n",
    "#\n",
    "d18O = np.empty([1, 31, 149, 182])\n",
    "d18O[0, :, :, :] = d18O_orca\n",
    "#\n",
    "d18OB = np.empty([1, 31, 149, 182])\n",
    "d18OB[0, :, :, :] = d18O_boundary\n",
    "#\n",
    "d18OG = np.empty([1, 31, 149, 182])\n",
    "d18OG[0, :, :, :] = d18O_grid"
   ]
  },
  {
   "cell_type": "code",
   "execution_count": 17,
   "metadata": {
    "collapsed": false
   },
   "outputs": [],
   "source": [
    "time_counter_obj[:]=3600.0\n",
    "BaVar_obj[:]=Ba\n",
    "BaBVar_obj[:]=BaB\n",
    "d18OVar_obj[:]=d18O\n",
    "d18OBVar_obj[:]=d18OB\n",
    "d18OGVar_obj[:]=d18OG\n",
    "nav_lat_obj[:]=nav_lat\n",
    "nav_lon_obj[:]=nav_lon"
   ]
  },
  {
   "cell_type": "code",
   "execution_count": 18,
   "metadata": {
    "collapsed": true
   },
   "outputs": [],
   "source": [
    "BaVar_obj.units='1e-6 mol/L'"
   ]
  },
  {
   "cell_type": "code",
   "execution_count": 19,
   "metadata": {
    "collapsed": true
   },
   "outputs": [],
   "source": [
    "ini_obj.close()"
   ]
  },
  {
   "cell_type": "code",
   "execution_count": 20,
   "metadata": {
    "collapsed": false
   },
   "outputs": [],
   "source": [
    "#test = nc.Dataset('_data/Exchange/TRC_ORCA2_Nomask.nc', 'r')\n",
    "#test.variables['d18O_grid'][:]"
   ]
  },
  {
   "cell_type": "markdown",
   "metadata": {},
   "source": [
    "# ANHA4"
   ]
  },
  {
   "cell_type": "code",
   "execution_count": 21,
   "metadata": {
    "collapsed": false
   },
   "outputs": [],
   "source": [
    "Ba_name=glob.glob('_data/Exchange/Ba_ANHA4_SRC.mat')\n",
    "Ba_Mat=scipy.io.loadmat(Ba_name[0])\n",
    "Ba_ANHA4=Ba_Mat['Ba_ANHA4']\n",
    "nav_lon=Ba_Mat['nav_lon']\n",
    "nav_lat=Ba_Mat['nav_lat']\n",
    "\n",
    "d18O_name=glob.glob('_data/Exchange/d18O_ANHA4_SRC.mat')\n",
    "d18O_Mat=scipy.io.loadmat(d18O_name[0])\n",
    "d18O_ANHA4=d18O_Mat['d18O_ANHA4']"
   ]
  },
  {
   "cell_type": "code",
   "execution_count": 22,
   "metadata": {
    "collapsed": false
   },
   "outputs": [
    {
     "data": {
      "text/plain": [
       "(12L, 544L, 800L)"
      ]
     },
     "execution_count": 22,
     "metadata": {},
     "output_type": "execute_result"
    }
   ],
   "source": [
    "d18O_ANHA4.shape"
   ]
  },
  {
   "cell_type": "code",
   "execution_count": 23,
   "metadata": {
    "collapsed": false
   },
   "outputs": [
    {
     "data": {
      "text/plain": [
       "(12L, 800L, 544L)"
      ]
     },
     "execution_count": 23,
     "metadata": {},
     "output_type": "execute_result"
    }
   ],
   "source": [
    "np.transpose(Ba_ANHA4, [0, 2, 1]).shape"
   ]
  },
  {
   "cell_type": "code",
   "execution_count": 24,
   "metadata": {
    "collapsed": false
   },
   "outputs": [
    {
     "data": {
      "text/plain": [
       "(544L, 800L)"
      ]
     },
     "execution_count": 24,
     "metadata": {},
     "output_type": "execute_result"
    }
   ],
   "source": [
    "nav_lon.shape"
   ]
  },
  {
   "cell_type": "code",
   "execution_count": 25,
   "metadata": {
    "collapsed": false
   },
   "outputs": [],
   "source": [
    "boundary_name=glob.glob('_data/Exchange/Ba_boundary_ANHA4.mat')\n",
    "Boundary_Mat=scipy.io.loadmat(boundary_name[0])\n",
    "Ba_boundary=Boundary_Mat['Ba_boundary']"
   ]
  },
  {
   "cell_type": "code",
   "execution_count": 26,
   "metadata": {
    "collapsed": false
   },
   "outputs": [
    {
     "data": {
      "text/plain": [
       "(50L, 544L, 800L)"
      ]
     },
     "execution_count": 26,
     "metadata": {},
     "output_type": "execute_result"
    }
   ],
   "source": [
    "Ba_boundary.shape"
   ]
  },
  {
   "cell_type": "code",
   "execution_count": 27,
   "metadata": {
    "collapsed": false
   },
   "outputs": [
    {
     "name": "stdout",
     "output_type": "stream",
     "text": [
      "NETCDF4\n"
     ]
    }
   ],
   "source": [
    "nc_obj = nc.Dataset('_data/Exchange/TRC_ANHA4_SRC.nc', 'w') # format='NETCDF4'\n",
    "nc_obj.description = 'River sources of Barium concentration in Arctic'\n",
    "print(nc_obj.file_format)"
   ]
  },
  {
   "cell_type": "code",
   "execution_count": 28,
   "metadata": {
    "collapsed": true
   },
   "outputs": [],
   "source": [
    "time=nc_obj.createDimension('time', None)\n",
    "lat=nc_obj.createDimension('lon', 544)\n",
    "lon=nc_obj.createDimension('lat', 800)"
   ]
  },
  {
   "cell_type": "code",
   "execution_count": 29,
   "metadata": {
    "collapsed": true
   },
   "outputs": [],
   "source": [
    "time_counter_obj=nc_obj.createVariable('time_counter', np.float32, ('time',), zlib=True)\n",
    "BaVar_obj=nc_obj.createVariable('Ba_ANHA4', np.float64, ('time', 'lat', 'lon'), zlib=True)\n",
    "d18OVar_obj=nc_obj.createVariable('d18O_ANHA4', np.float64, ('time', 'lat', 'lon'), zlib=True)\n",
    "#BaB_obj = nc_obj.createVariable('Ba_boundary', np.float64, ('lat', 'lon'), zlib=True)\n",
    "nav_lat_obj=nc_obj.createVariable('nav_lat', np.float64, ('lat', 'lon'), zlib=True)\n",
    "nav_lon_obj=nc_obj.createVariable('nav_lon', np.float64, ('lat', 'lon'), zlib=True)"
   ]
  },
  {
   "cell_type": "code",
   "execution_count": 30,
   "metadata": {
    "collapsed": false
   },
   "outputs": [
    {
     "data": {
      "text/plain": [
       "(12L, 544L, 800L)"
      ]
     },
     "execution_count": 30,
     "metadata": {},
     "output_type": "execute_result"
    }
   ],
   "source": [
    "Ba_ANHA4.shape"
   ]
  },
  {
   "cell_type": "code",
   "execution_count": 31,
   "metadata": {
    "collapsed": false
   },
   "outputs": [],
   "source": [
    "time_counter_obj[:]=time_counter\n",
    "BaVar_obj[:]=np.transpose(Ba_ANHA4, [0, 2, 1])\n",
    "d18OVar_obj[:]=np.transpose(d18O_ANHA4, [0, 2, 1])\n",
    "#BaB_obj[:]=Ba_boundary.T\n",
    "nav_lat_obj[:]=nav_lat.T\n",
    "nav_lon_obj[:]=nav_lon.T"
   ]
  },
  {
   "cell_type": "code",
   "execution_count": 32,
   "metadata": {
    "collapsed": true
   },
   "outputs": [],
   "source": [
    "nc_obj.close()"
   ]
  },
  {
   "cell_type": "markdown",
   "metadata": {},
   "source": [
    "## Initial field"
   ]
  },
  {
   "cell_type": "code",
   "execution_count": 33,
   "metadata": {
    "collapsed": true
   },
   "outputs": [],
   "source": [
    "MAT = scipy.io.loadmat('_data/Exchange/NEMO_ANHA4_Ba.mat')\n",
    "Ba_ANHA4 = MAT['Ba_ini_ANHA4'][:]\n",
    "\n",
    "MAT = scipy.io.loadmat('_data/Exchange/NEMO_ANHA4_d18O_Grid.mat')\n",
    "d18O_ANHA4 = MAT['d18O_grid_ANHA']"
   ]
  },
  {
   "cell_type": "code",
   "execution_count": 34,
   "metadata": {
    "collapsed": false
   },
   "outputs": [
    {
     "name": "stdout",
     "output_type": "stream",
     "text": [
      "NETCDF4\n"
     ]
    }
   ],
   "source": [
    "ini_obj = nc.Dataset('_data/Exchange/TRC_ANHA4_Nomask.nc', 'w') # format='NETCDF4'\n",
    "ini_obj.description = 'Barium Initial Field'\n",
    "print(ini_obj.file_format)"
   ]
  },
  {
   "cell_type": "code",
   "execution_count": 35,
   "metadata": {
    "collapsed": true
   },
   "outputs": [],
   "source": [
    "time=ini_obj.createDimension('time', None)\n",
    "lev = ini_obj.createDimension('lev', 50)\n",
    "lat=ini_obj.createDimension('lat', 800)\n",
    "lon=ini_obj.createDimension('lon', 544)"
   ]
  },
  {
   "cell_type": "code",
   "execution_count": 36,
   "metadata": {
    "collapsed": true
   },
   "outputs": [],
   "source": [
    "time_counter_obj=ini_obj.createVariable('time_counter', np.float32, ('time',), zlib=True)\n",
    "BaVar_obj=ini_obj.createVariable('Ba', np.float64, ('time', 'lev', 'lat', 'lon'), zlib=True)\n",
    "d18OVar_obj=ini_obj.createVariable('d18O', np.float64, ('time', 'lev', 'lat', 'lon'), zlib=True)\n",
    "BaBVar_obj=ini_obj.createVariable('Ba_boundary', np.float64, ('time', 'lev', 'lat', 'lon'), zlib=True)\n",
    "d18OBVar_obj=ini_obj.createVariable('d18O_boundary', np.float64, ('time', 'lev', 'lat', 'lon'), zlib=True)\n",
    "nav_lat_obj=ini_obj.createVariable('nav_lat', np.float64, ('lat', 'lon'), zlib=True)\n",
    "nav_lon_obj=ini_obj.createVariable('nav_lon', np.float64, ('lat', 'lon'), zlib=True)"
   ]
  },
  {
   "cell_type": "code",
   "execution_count": 37,
   "metadata": {
    "collapsed": false
   },
   "outputs": [
    {
     "data": {
      "text/plain": [
       "(50L, 544L, 800L)"
      ]
     },
     "execution_count": 37,
     "metadata": {},
     "output_type": "execute_result"
    }
   ],
   "source": [
    "Ba_ANHA4.shape"
   ]
  },
  {
   "cell_type": "code",
   "execution_count": 38,
   "metadata": {
    "collapsed": true
   },
   "outputs": [],
   "source": [
    "Ba_boundary=np.transpose(Ba_boundary, [0, 2, 1])"
   ]
  },
  {
   "cell_type": "code",
   "execution_count": 39,
   "metadata": {
    "collapsed": false
   },
   "outputs": [],
   "source": [
    "Ba = np.empty([1, 50, 800, 544])\n",
    "Ba[0, :, :, :] = np.transpose(Ba_ANHA4, [0, 2, 1])\n",
    "\n",
    "d18O = np.empty([1, 50, 800, 544])\n",
    "d18O[0, :, :, :] = np.transpose(d18O_ANHA4, [0, 2, 1])\n",
    "\n",
    "d18OB = np.empty([1, 50, 800, 544])\n",
    "d18OB[0, :, :, :] = Ba_boundary\n",
    "#\n",
    "BaB = np.empty([1, 50, 800, 544])\n",
    "BaB[0, :, :, :] = Ba_boundary"
   ]
  },
  {
   "cell_type": "code",
   "execution_count": 40,
   "metadata": {
    "collapsed": true
   },
   "outputs": [],
   "source": [
    "time_counter_obj[:]=3600.0\n",
    "BaVar_obj[:]=Ba\n",
    "d18OVar_obj[:]=d18O\n",
    "nav_lat_obj[:]=nav_lat\n",
    "nav_lon_obj[:]=nav_lon\n",
    "BaBVar_obj[:]=BaB\n",
    "d18OBVar_obj[:]=d18OB"
   ]
  },
  {
   "cell_type": "code",
   "execution_count": 41,
   "metadata": {
    "collapsed": true
   },
   "outputs": [],
   "source": [
    "ini_obj.close()"
   ]
  },
  {
   "cell_type": "code",
   "execution_count": 42,
   "metadata": {
    "collapsed": true
   },
   "outputs": [],
   "source": [
    "test_obj = nc.Dataset('_data/Exchange/TRC_ANHA4_Nomask.nc', 'r')"
   ]
  },
  {
   "cell_type": "code",
   "execution_count": 43,
   "metadata": {
    "collapsed": true
   },
   "outputs": [],
   "source": [
    "B = test_obj.variables['Ba_boundary'][:]"
   ]
  },
  {
   "cell_type": "code",
   "execution_count": 44,
   "metadata": {
    "collapsed": false
   },
   "outputs": [
    {
     "data": {
      "text/plain": [
       "array([[ 65.83534541,  65.83534541,  65.83534541, ...,  50.0016647 ,\n",
       "         50.0016647 ,  49.97100188],\n",
       "       [ 65.71576117,  65.71576117,  65.71576117, ...,  45.67335344,\n",
       "         45.67335344,  45.69154488],\n",
       "       [ 64.85842617,  64.85842617,  64.85842617, ...,  40.13345059,\n",
       "         40.13345059,  40.13422968],\n",
       "       ..., \n",
       "       [ 62.39230504,  62.39230504,  62.39230504, ...,  49.07489906,\n",
       "         49.07489906,  49.05929393],\n",
       "       [ 62.39230504,  62.39230504,  62.39230504, ...,  49.07489906,\n",
       "         49.07489906,  49.05929393],\n",
       "       [ 62.39230504,  62.39230504,  62.39230504, ...,  49.07489906,\n",
       "         49.07489906,  49.05929393]])"
      ]
     },
     "execution_count": 44,
     "metadata": {},
     "output_type": "execute_result"
    }
   ],
   "source": [
    "B[0, :, 799]"
   ]
  },
  {
   "cell_type": "code",
   "execution_count": null,
   "metadata": {
    "collapsed": true
   },
   "outputs": [],
   "source": []
  }
 ],
 "metadata": {
  "kernelspec": {
   "display_name": "Python 2",
   "language": "python",
   "name": "python2"
  },
  "language_info": {
   "codemirror_mode": {
    "name": "ipython",
    "version": 2
   },
   "file_extension": ".py",
   "mimetype": "text/x-python",
   "name": "python",
   "nbconvert_exporter": "python",
   "pygments_lexer": "ipython2",
   "version": "2.7.11"
  }
 },
 "nbformat": 4,
 "nbformat_minor": 0
}
