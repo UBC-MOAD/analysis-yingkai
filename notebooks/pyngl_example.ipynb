{
 "cells": [
  {
   "cell_type": "markdown",
   "metadata": {},
   "source": [
    "# PyNGL Example"
   ]
  },
  {
   "cell_type": "markdown",
   "metadata": {},
   "source": [
    "## Import numpy and PyNGL"
   ]
  },
  {
   "cell_type": "code",
   "execution_count": 1,
   "metadata": {
    "collapsed": false
   },
   "outputs": [],
   "source": [
    "import numpy as np\n",
    "import Ngl"
   ]
  },
  {
   "cell_type": "markdown",
   "metadata": {},
   "source": [
    "### Create a list"
   ]
  },
  {
   "cell_type": "code",
   "execution_count": 2,
   "metadata": {
    "collapsed": false
   },
   "outputs": [
    {
     "name": "stdout",
     "output_type": "stream",
     "text": [
      "[ 0.     0.71   1.     0.7    0.002 -0.71  -1.    -0.71  -0.003]\n"
     ]
    }
   ],
   "source": [
    "#Create one list, no missing values.\n",
    "y = [ 0.,  0.71,  1.,  0.7,  0.002, -0.71, -1., -0.71, -0.003]\n",
    "\n",
    "# Create a masked array, based on the list, and add some\n",
    "# missing values.\n",
    "ymsg    = np.array(y)\n",
    "\n",
    "print ymsg\n",
    "#ymsg[2] = ymsg.fill_value()\n",
    "#ymsg[5] = ymsg.fill_value()\n",
    "#ymsg[6] = ymsg.fill_value()"
   ]
  },
  {
   "cell_type": "markdown",
   "metadata": {},
   "source": [
    "### Define workstation"
   ]
  },
  {
   "cell_type": "code",
   "execution_count": 3,
   "metadata": {
    "collapsed": false
   },
   "outputs": [],
   "source": [
    "wks_type = \"png\"\n",
    "img_name = \"xymsg\"\n",
    "wks = Ngl.open_wks(wks_type, img_name)\n"
   ]
  },
  {
   "cell_type": "markdown",
   "metadata": {},
   "source": [
    "### Generate a quick plot"
   ]
  },
  {
   "cell_type": "code",
   "execution_count": 4,
   "metadata": {
    "collapsed": false
   },
   "outputs": [],
   "source": [
    "res = Ngl.Resources()\n",
    "\n",
    "# First plot doesn't have missing values.\n",
    "res.tiMainString = \"No missing values, no gaps\"\n",
    "res.trYMaxF      =  1.2\n",
    "res.trYMinF      = -1.2\n",
    "plot = Ngl.y(wks,y,res)"
   ]
  },
  {
   "cell_type": "markdown",
   "metadata": {},
   "source": [
    "### We can view the generated png file with PIL"
   ]
  },
  {
   "cell_type": "code",
   "execution_count": 5,
   "metadata": {
    "collapsed": false
   },
   "outputs": [],
   "source": [
    "#from PIL import ImageTk, Image\n",
    "\n",
    "filename = img_name + \".\" + wks_type\n",
    "#imgobj = Image.open(filename)\n",
    "#imgobj.load()\n",
    "#print \"imgobj\", imgobj\n",
    "#print \"Show imgobj: \", filename\n",
    "#imgobj.show()"
   ]
  },
  {
   "cell_type": "markdown",
   "metadata": {},
   "source": [
    "### Make matplotlib plot inline"
   ]
  },
  {
   "cell_type": "code",
   "execution_count": 6,
   "metadata": {
    "collapsed": false
   },
   "outputs": [],
   "source": [
    "%matplotlib inline"
   ]
  },
  {
   "cell_type": "markdown",
   "metadata": {},
   "source": [
    "### Now view the plot"
   ]
  },
  {
   "cell_type": "code",
   "execution_count": 7,
   "metadata": {
    "collapsed": false
   },
   "outputs": [
    {
     "data": {
      "image/png": "[encoded data removed]",
      "text/plain": [
       "<matplotlib.figure.Figure at 0x7ff5c9b41150>"
      ]
     },
     "metadata": {},
     "output_type": "display_data"
    }
   ],
   "source": [
    "import matplotlib.pyplot as plt\n",
    "import matplotlib.image as mpimg\n",
    "\n",
    "img=mpimg.imread(filename)\n",
    "imgplot = plt.imshow(img)"
   ]
  },
  {
   "cell_type": "markdown",
   "metadata": {},
   "source": [
    "### Draw second plot"
   ]
  },
  {
   "cell_type": "code",
   "execution_count": 8,
   "metadata": {
    "collapsed": false
   },
   "outputs": [],
   "source": [
    "# Second plot uses a masked array that contains missing values.\n",
    "# Note that technically, a masked array that doesn't have a\n",
    "# corresponding \"mask\" array doesn't recognize *any* of its\n",
    "# values as being missing. However, in Ngl, we do. Don't know\n",
    "# if this is a good way to do things, but it makes it simpler\n",
    "# for the user.\n",
    "res.tiMainString = \"Three missing values, two gaps\"\n",
    "res.nglFrame     = False\n",
    "res.nglDraw      = False\n",
    "plot = Ngl.y(wks,ymsg,res)\n",
    "\n",
    "# Add some markers showing the original points.\n",
    "mkres               = Ngl.Resources()\n",
    "mkres.gsMarkerIndex = 16\n",
    "mkres.gsMarkerColor = \"red\"\n",
    "marker = Ngl.add_polymarker(wks,plot,range(0,len(y)),y,mkres)\n",
    "\n",
    "Ngl.draw(plot)"
   ]
  },
  {
   "cell_type": "markdown",
   "metadata": {},
   "source": [
    "### Forwad the frame"
   ]
  },
  {
   "cell_type": "code",
   "execution_count": 9,
   "metadata": {
    "collapsed": false
   },
   "outputs": [],
   "source": [
    "Ngl.frame(wks)"
   ]
  },
  {
   "cell_type": "markdown",
   "metadata": {},
   "source": [
    "### Display the plot"
   ]
  },
  {
   "cell_type": "code",
   "execution_count": 10,
   "metadata": {
    "collapsed": false
   },
   "outputs": [
    {
     "data": {
      "image/png": "[encoded data removed]",
      "text/plain": [
       "<matplotlib.figure.Figure at 0x7ff5c9832e10>"
      ]
     },
     "metadata": {},
     "output_type": "display_data"
    }
   ],
   "source": [
    "filename = img_name + \".000002.\" + wks_type\n",
    "img=mpimg.imread(filename)\n",
    "imgplot = plt.imshow(img)"
   ]
  },
  {
   "cell_type": "markdown",
   "metadata": {},
   "source": [
    "### End PyNGL"
   ]
  },
  {
   "cell_type": "code",
   "execution_count": 11,
   "metadata": {
    "collapsed": false
   },
   "outputs": [],
   "source": [
    "Ngl.end()"
   ]
  },
  {
   "cell_type": "code",
   "execution_count": null,
   "metadata": {
    "collapsed": false
   },
   "outputs": [],
   "source": []
  }
 ],
 "metadata": {
  "kernelspec": {
   "display_name": "Python 2",
   "language": "python",
   "name": "python2"
  },
  "language_info": {
   "codemirror_mode": {
    "name": "ipython",
    "version": 2
   },
   "file_extension": ".py",
   "mimetype": "text/x-python",
   "name": "python",
   "nbconvert_exporter": "python",
   "pygments_lexer": "ipython2",
   "version": "2.7.12"
  }
 },
 "nbformat": 4,
 "nbformat_minor": 0
}
