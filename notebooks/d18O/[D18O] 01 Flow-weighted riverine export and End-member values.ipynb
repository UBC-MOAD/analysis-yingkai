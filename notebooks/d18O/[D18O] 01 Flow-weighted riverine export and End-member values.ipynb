{
 "cells": [
  {
   "cell_type": "markdown",
   "metadata": {},
   "source": [
    "# Flow-weighted riverine $\\mathsf{\\delta^{18}O}$ export and end-member values"
   ]
  },
  {
   "cell_type": "markdown",
   "metadata": {},
   "source": [
    "* This notebook shows my work of $\\mathsf{\\delta^{18}O}$'s river export.\n",
    "* I found it is good to use constants."
   ]
  },
  {
   "cell_type": "markdown",
   "metadata": {},
   "source": [
    "# Content\n",
    "1. [**Import modules & tools**](#Import-modules-&-tools)\n",
    "1. [**Define functions**](#Define-functions)\n",
    "1. [**d18O records**](#d18O-records)\n",
    "  2. [Read datasets](#Read-datasets)\n",
    "  2. [Combine datasets to series](#Combine-datasets-to-series)\n",
    "  2. [Reconstruct to monthly mean values](#Reconstruct-to-monthly-mean-values)\n",
    "1. [**River discharge**](#River-discharge)\n",
    "1. [**Check the seasonality**](#Check-the-seasonality)\n",
    "1. [**Flow-weighted end member values**](#Flow-weighted end member values)"
   ]
  },
  {
   "cell_type": "markdown",
   "metadata": {},
   "source": [
    "# Import modules and tools"
   ]
  },
  {
   "cell_type": "code",
   "execution_count": 1,
   "metadata": {
    "collapsed": false
   },
   "outputs": [],
   "source": [
    "import sys\n",
    "sys.path.insert(0, '../_libs/')\n",
    "import NEMO_tools as Nts\n",
    "from Mat2Py import datenum2datetime, datetime2datenum_single "
   ]
  },
  {
   "cell_type": "code",
   "execution_count": 2,
   "metadata": {
    "collapsed": true
   },
   "outputs": [],
   "source": [
    "import glob\n",
    "import scipy.io\n",
    "import datetime\n",
    "import numpy as np\n",
    "import netCDF4 as nc\n",
    "import matplotlib.pyplot as plt\n",
    "from NEMO_tools import reporj_NEMOgrid\n",
    "#from seaborn import xkcd_rgb as xcolor\n",
    "% matplotlib inline"
   ]
  },
  {
   "cell_type": "code",
   "execution_count": 3,
   "metadata": {
    "collapsed": false
   },
   "outputs": [
    {
     "data": {
      "text/plain": [
       "<module 'NEMO_tools' from '../_libs/NEMO_tools.pyc'>"
      ]
     },
     "execution_count": 3,
     "metadata": {},
     "output_type": "execute_result"
    }
   ],
   "source": [
    "reload(Nts)"
   ]
  },
  {
   "cell_type": "markdown",
   "metadata": {},
   "source": [
    "# Define functions"
   ]
  },
  {
   "cell_type": "code",
   "execution_count": 4,
   "metadata": {
    "collapsed": true
   },
   "outputs": [],
   "source": [
    "def mutifig6(SIZE=(12, 7)):\n",
    "    fig=plt.figure(figsize=SIZE)\n",
    "    plt.subplots_adjust(hspace = 0.15)\n",
    "    ax1=plt.subplot2grid((3, 2), (0, 0), colspan=1, rowspan=1)\n",
    "    ax2=plt.subplot2grid((3, 2), (0, 1), colspan=1, rowspan=1)\n",
    "    ax3=plt.subplot2grid((3, 2), (1, 0), colspan=1, rowspan=1)\n",
    "    ax4=plt.subplot2grid((3, 2), (1, 1), colspan=1, rowspan=1)\n",
    "    ax5=plt.subplot2grid((3, 2), (2, 0), colspan=1, rowspan=1)\n",
    "    ax6=plt.subplot2grid((3, 2), (2, 1), colspan=1, rowspan=1)\n",
    "    AX = [ax1, ax2, ax3, ax4, ax5, ax6]\n",
    "    return fig, AX"
   ]
  },
  {
   "cell_type": "code",
   "execution_count": 5,
   "metadata": {
    "collapsed": true
   },
   "outputs": [],
   "source": [
    "Mon = ['Jan', 'Feb', 'Mar', 'Apr', 'May', 'Jun', 'Jul', 'Aug', 'Sep', 'Oct', 'Nov', 'Dec']"
   ]
  },
  {
   "cell_type": "code",
   "execution_count": 6,
   "metadata": {
    "collapsed": true
   },
   "outputs": [],
   "source": [
    "RB=[0.25, 0.41, 0.88]    # Royal blue\n",
    "AM=[0.90, 0.17, 0.31]    # Amathran\n",
    "SB=[0.06, 0.05, 0.03]    # Smokey Black\n",
    "AFB = [0.36, 0.54, 0.66] # Air Force Blue\n",
    "AG = [0.55, 0.71, 0.0]   # Apple Green\n",
    "AZ = [0.0, 0.5, 1.0]     # Azure\n",
    "CB = [0.37, 0.62, 0.63]  # Cadet blue\n",
    "SP = [1.0, 0.72, 0.77]   # Sakura\n",
    "CamB = [0.64, 0.76, 0.68]# Cambridge blue\n",
    "DC = [0.0, 0.55, 0.55]   # Dark cyan\n",
    "DE = [0.08, 0.38, 0.74]  # Denim\n",
    "BB = [0.54, 0.81, 0.94]  # Baby blue\n",
    "EG = [0.94, 0.92, 0.84]  # Egg shell"
   ]
  },
  {
   "cell_type": "markdown",
   "metadata": {},
   "source": [
    "# d18O records"
   ]
  },
  {
   "cell_type": "markdown",
   "metadata": {},
   "source": [
    "Datasets are downloaded from <a href='http://www.arcticgreatrivers.org/data'>**Arctic Great River Observatory**</a>. All datasets have been preprocessed in MATLAB.\n",
    "\n",
    "The unit is thousand precent."
   ]
  },
  {
   "cell_type": "markdown",
   "metadata": {},
   "source": [
    "<table align=\"left\">\n",
    "<tr>\n",
    "<th>River</th>\n",
    "<th>Station</th>\n",
    "<th>Longitude</th>\n",
    "<th>Latitude</th>\n",
    "</tr>\n",
    "<tr>\n",
    "<td>Lena</td>\n",
    "<td>Zhigansk</td>\n",
    "<td>123°22' E</td>\n",
    "<td>66°46' N</td>\n",
    "</tr>\n",
    "<tr>\n",
    "<td>Kolyma</td>\n",
    "<td>Cherskiy</td>\n",
    "<td>161°18' E</td>\n",
    "<td>68°45' N</td>\n",
    "</tr>\n",
    "<tr>\n",
    "<td>Yenisey</td>\n",
    "<td>Dudinka</td>\n",
    "<td>86°09' E</td>\n",
    "<td>69°23' N</td>\n",
    "</tr>\n",
    "<tr>\n",
    "<td>Mackenzie</td>\n",
    "<td>Tsiigehtchic / Inuvik</td>\n",
    "<td>133°45' W / 133°42' W</td>\n",
    "<td>67°26' N / 68°20' N</td>\n",
    "</tr>\n",
    "<tr>\n",
    "<td>Ob'</td>\n",
    "<td>Salekhard</td>\n",
    "<td>66°36' E</td>\n",
    "<td>66°31' N</td>\n",
    "</tr>\n",
    "<tr>\n",
    "<td>Yukon</td>\n",
    "<td>Pilot Station</td>\n",
    "<td>162°52' W</td>\n",
    "<td>61°56' N</td>\n",
    "</tr>\n",
    "</table>"
   ]
  },
  {
   "cell_type": "markdown",
   "metadata": {},
   "source": [
    "## Read datasets"
   ]
  },
  {
   "cell_type": "markdown",
   "metadata": {},
   "source": [
    "** PARTNERS [L. W. Cooper et al., Geophys. Res. Lett., 2008] **"
   ]
  },
  {
   "cell_type": "code",
   "execution_count": 7,
   "metadata": {
    "collapsed": false
   },
   "outputs": [
    {
     "name": "stdout",
     "output_type": "stream",
     "text": [
      "found file: \n",
      "['../_data/Samples/PARTNERS/PATRNERS_d18O.mat']\n"
     ]
    }
   ],
   "source": [
    "PARTNERS_name=glob.glob('../_data/Samples/PARTNERS/*d18O.mat')\n",
    "print(\"found file: \\n{}\".format(PARTNERS_name))\n",
    "PARTNERS_obj=scipy.io.loadmat(PARTNERS_name[0])"
   ]
  },
  {
   "cell_type": "code",
   "execution_count": 8,
   "metadata": {
    "collapsed": false
   },
   "outputs": [],
   "source": [
    "PARTNERS_Lena      = PARTNERS_obj['Lena']\n",
    "PARTNERS_Kolyma    = PARTNERS_obj['Kolyma']\n",
    "PARTNERS_Yenisey   = PARTNERS_obj['Yenisey']\n",
    "PARTNERS_Mackenzie = PARTNERS_obj['Mackenzie']\n",
    "PARTNERS_Ob        = PARTNERS_obj['Ob']\n",
    "PARTNERS_Yukon     = PARTNERS_obj['Yukon']"
   ]
  },
  {
   "cell_type": "markdown",
   "metadata": {},
   "source": [
    "** Arctic-GRO **"
   ]
  },
  {
   "cell_type": "code",
   "execution_count": 9,
   "metadata": {
    "collapsed": false
   },
   "outputs": [
    {
     "name": "stdout",
     "output_type": "stream",
     "text": [
      "found file: \n",
      "['../_data/Samples/Arctic-GRO/GRO_d18O.mat']\n"
     ]
    }
   ],
   "source": [
    "AGRO_name=glob.glob('../_data/Samples/Arctic-GRO/*d18O.mat')\n",
    "print(\"found file: \\n{}\".format(AGRO_name))\n",
    "AGRO_obj=scipy.io.loadmat(AGRO_name[0])"
   ]
  },
  {
   "cell_type": "code",
   "execution_count": 10,
   "metadata": {
    "collapsed": true
   },
   "outputs": [],
   "source": [
    "AGRO_Lena      = AGRO_obj['Lena']\n",
    "AGRO_Kolyma    = AGRO_obj['Kolyma']\n",
    "AGRO_Yenisey   = AGRO_obj['Yenisey']\n",
    "AGRO_Mackenzie = AGRO_obj['Mackenzie']\n",
    "AGRO_Ob        = AGRO_obj['Ob']\n",
    "AGRO_Yukon     = AGRO_obj['Yukon']"
   ]
  },
  {
   "cell_type": "markdown",
   "metadata": {},
   "source": [
    "## Combine datasets to series"
   ]
  },
  {
   "cell_type": "code",
   "execution_count": 11,
   "metadata": {
    "collapsed": true
   },
   "outputs": [],
   "source": [
    "Lena_time      = datenum2datetime(PARTNERS_Lena[:, 0])      + datenum2datetime(AGRO_Lena[:, 0])\n",
    "Kolyma_time    = datenum2datetime(PARTNERS_Kolyma[:, 0])    + datenum2datetime(AGRO_Kolyma[:, 0])\n",
    "Yenisey_time   = datenum2datetime(PARTNERS_Yenisey[:, 0])   + datenum2datetime(AGRO_Yenisey[:, 0])\n",
    "Mackenzie_time = datenum2datetime(PARTNERS_Mackenzie[:, 0]) + datenum2datetime(AGRO_Mackenzie[:, 0])\n",
    "Ob_time        = datenum2datetime(PARTNERS_Ob[:, 0])        + datenum2datetime(AGRO_Ob[:, 0])\n",
    "Yukon_time     = datenum2datetime(PARTNERS_Yukon[:, 0])     + datenum2datetime(AGRO_Yukon[:, 0])"
   ]
  },
  {
   "cell_type": "code",
   "execution_count": 12,
   "metadata": {
    "collapsed": true
   },
   "outputs": [],
   "source": [
    "Lena_d18O      = np.hstack((PARTNERS_Lena[:, 1]     , AGRO_Lena[:, 1]))\n",
    "Kolyma_d18O    = np.hstack((PARTNERS_Kolyma[:, 1]   , AGRO_Kolyma[:, 1]))\n",
    "Yenisey_d18O   = np.hstack((PARTNERS_Yenisey[:, 1]  , AGRO_Yenisey[:, 1]))\n",
    "Mackenzie_d18O = np.hstack((PARTNERS_Mackenzie[:, 1], AGRO_Mackenzie[:, 1]))\n",
    "Ob_d18O        = np.hstack((PARTNERS_Ob[:, 1]       , AGRO_Ob[:, 1]))\n",
    "Yukon_d18O     = np.hstack((PARTNERS_Yukon[:, 1]    , AGRO_Yukon[:, 1]))"
   ]
  },
  {
   "cell_type": "markdown",
   "metadata": {},
   "source": [
    "## Reconstruct to monthly mean values"
   ]
  },
  {
   "cell_type": "code",
   "execution_count": 13,
   "metadata": {
    "collapsed": false
   },
   "outputs": [],
   "source": [
    "Lena_monmean     , Lena_d18O_monmean     , Lena_bin      = Nts.bin_monmean(Lena_time, Lena_d18O)\n",
    "Kolyma_monmean   , Kolyma_d18O_monmean   , Kolyma_bin    = Nts.bin_monmean(Kolyma_time, Kolyma_d18O)\n",
    "Yenisey_monmean  , Yenisey_d18O_monmean  , Yenisey_bin   = Nts.bin_monmean(Yenisey_time, Yenisey_d18O)\n",
    "Mackenzie_monmean, Mackenzie_d18O_monmean, Mackenzie_bin = Nts.bin_monmean(Mackenzie_time, Mackenzie_d18O)\n",
    "Ob_monmean       , Ob_d18O_monmean       , Ob_bin        = Nts.bin_monmean(Ob_time, Ob_d18O)\n",
    "Yukon_monmean    , Yukon_d18O_monmean    , Yukon_bin     = Nts.bin_monmean(Yukon_time, Yukon_d18O)"
   ]
  },
  {
   "cell_type": "code",
   "execution_count": 14,
   "metadata": {
    "collapsed": false
   },
   "outputs": [],
   "source": [
    "d18O_all = np.hstack([Lena_d18O, Yenisey_d18O, Kolyma_d18O, Mackenzie_d18O, Ob_d18O, Yukon_d18O])\n",
    "time_all = np.hstack([Lena_time, Yenisey_time, Kolyma_time, Mackenzie_time, Ob_time, Yukon_time])"
   ]
  },
  {
   "cell_type": "code",
   "execution_count": 15,
   "metadata": {
    "collapsed": false
   },
   "outputs": [],
   "source": [
    "def get_mon_val(dt, data):\n",
    "    '''\n",
    "    =======================================================================\n",
    "    bin daily data into 12 months\n",
    "                            ----- created on 2014/12/25, Yingkai (Kyle) Sha\n",
    "    -----------------------------------------------------------------------\n",
    "        series, bin_count = bin_season_cycle(...)\n",
    "    -----------------------------------------------------------------------\n",
    "    Input:\n",
    "            dt: A list of original data's datetime.datetime objects\n",
    "            data: original data\n",
    "    Output:\n",
    "            data: data in 12 months\n",
    "            bin_count: how many points fall into each months, \n",
    "                        data[i]=np.nan when bin_count[i]=0.\n",
    "    ======================================================================= \n",
    "    '''\n",
    "    #import datetime\n",
    "    import numpy as np\n",
    "    #from dateutil.relativedelta import relativedelta\n",
    "    \n",
    "    dt=sorted(dt) # increase order\n",
    "    series=np.zeros([12, len(dt)])\n",
    "    series[series==0]=np.nan\n",
    "    \n",
    "    \n",
    "    for j in range(12):\n",
    "        mon_val = []\n",
    "        for i in range(len(dt)):        \n",
    "            if dt[i].month == j:\n",
    "                mon_val += [data[i]]\n",
    "        series[j, 0:len(mon_val)] = np.array(mon_val)\n",
    "    return series"
   ]
  },
  {
   "cell_type": "code",
   "execution_count": 16,
   "metadata": {
    "collapsed": false
   },
   "outputs": [],
   "source": [
    "series = get_mon_val(time_all, d18O_all)"
   ]
  },
  {
   "cell_type": "code",
   "execution_count": 17,
   "metadata": {
    "collapsed": false
   },
   "outputs": [
    {
     "data": {
      "text/plain": [
       "{'boxes': [<matplotlib.lines.Line2D at 0x7f22ea70a550>],\n",
       " 'caps': [<matplotlib.lines.Line2D at 0x7f22ea720410>,\n",
       "  <matplotlib.lines.Line2D at 0x7f22ea720a50>],\n",
       " 'fliers': [<matplotlib.lines.Line2D at 0x7f22ea728710>],\n",
       " 'means': [],\n",
       " 'medians': [<matplotlib.lines.Line2D at 0x7f22ea7280d0>],\n",
       " 'whiskers': [<matplotlib.lines.Line2D at 0x7f231c54a310>,\n",
       "  <matplotlib.lines.Line2D at 0x7f22ea70ad90>]}"
      ]
     },
     "execution_count": 17,
     "metadata": {},
     "output_type": "execute_result"
    },
    {
     "data": {
      "image/png": "[encoded data removed]",
      "text/plain": [
       "<matplotlib.figure.Figure at 0x7f22ea6b6950>"
      ]
     },
     "metadata": {},
     "output_type": "display_data"
    }
   ],
   "source": [
    "plt.boxplot(series[6, :][~np.isnan(series[6, :])])"
   ]
  },
  {
   "cell_type": "code",
   "execution_count": 18,
   "metadata": {
    "collapsed": false
   },
   "outputs": [
    {
     "data": {
      "image/png": "[encoded data removed]",
      "text/plain": [
       "<matplotlib.figure.Figure at 0x7f22e58ac9d0>"
      ]
     },
     "metadata": {},
     "output_type": "display_data"
    }
   ],
   "source": [
    "from scipy.stats import norm\n",
    "# distribution fitting\n",
    "param = norm.fit(d18O_all)\n",
    "# get x, y pair from the fit\n",
    "x = np.linspace(-30,-10,100)\n",
    "x_hist = np.linspace(-30,-10,40)\n",
    "pdf_fitted = norm.pdf(x,loc=param[0],scale=param[1])\n",
    "pdf = norm.pdf(x)\n",
    "# plot\n",
    "fig = plt.figure(figsize=(13, 5))\n",
    "ax = fig.gca(); ax.grid()\n",
    "ax.plot(x, pdf_fitted, 'r-', lw=2.5)\n",
    "ax.hist(d18O_all, x_hist, normed=1, color=RB);"
   ]
  },
  {
   "cell_type": "code",
   "execution_count": 19,
   "metadata": {
    "collapsed": true
   },
   "outputs": [],
   "source": [
    "test1 = np.array([9, 9.5, 9.3, 9.1, 9.0, 8.9, 8.7, 8.5])\n",
    "test2 = test1*0.99"
   ]
  },
  {
   "cell_type": "code",
   "execution_count": 20,
   "metadata": {
    "collapsed": false
   },
   "outputs": [],
   "source": [
    "from scipy import stats \n",
    "f_val, p_val = stats.f_oneway(Lena_d18O, Yenisey_d18O, Kolyma_d18O, Mackenzie_d18O, Ob_d18O, Yukon_d18O)"
   ]
  },
  {
   "cell_type": "code",
   "execution_count": 21,
   "metadata": {
    "collapsed": false
   },
   "outputs": [
    {
     "data": {
      "text/plain": [
       "2.4509808299324617e-56"
      ]
     },
     "execution_count": 21,
     "metadata": {},
     "output_type": "execute_result"
    }
   ],
   "source": [
    "p_val"
   ]
  },
  {
   "cell_type": "markdown",
   "metadata": {},
   "source": [
    "# River discharge"
   ]
  },
  {
   "cell_type": "markdown",
   "metadata": {},
   "source": [
    "Location of stations:"
   ]
  },
  {
   "cell_type": "markdown",
   "metadata": {},
   "source": [
    "<table align=\"left\">\n",
    "<tr>\n",
    "<th>River</th>\n",
    "<th>Station</th>\n",
    "<th>Longitude</th>\n",
    "<th>Latitude</th>\n",
    "</tr>\n",
    "<tr>\n",
    "<td>Lena</td>\n",
    "<td>Kusur</td>\n",
    "<td>127.39 E</td>\n",
    "<td>70.68 N</td>\n",
    "</tr>\n",
    "<tr>\n",
    "<td>Kolyma</td>\n",
    "<td>Kolymskoye</td>\n",
    "<td>158.72 E</td>\n",
    "<td>68.73 N</td>\n",
    "</tr>\n",
    "<tr>\n",
    "<td>Yenisey</td>\n",
    "<td>Igarka</td>\n",
    "<td>86.48 E</td>\n",
    "<td>67.43 N</td>\n",
    "</tr>\n",
    "<tr>\n",
    "<td>Mackenzie</td>\n",
    "<td>Tsiigehtchic</td>\n",
    "<td>133°45' W</td>\n",
    "<td>67°26' N</td>\n",
    "</tr>\n",
    "<tr>\n",
    "<td>Ob'</td>\n",
    "<td>Salekhard</td>\n",
    "<td>66°36' E</td>\n",
    "<td>66°31' N</td>\n",
    "</tr>\n",
    "<tr>\n",
    "<td>Yukon</td>\n",
    "<td>Pilot Station</td>\n",
    "<td>162°52' W</td>\n",
    "<td>61°56' N</td>\n",
    "</tr>\n",
    "</table>"
   ]
  },
  {
   "cell_type": "markdown",
   "metadata": {},
   "source": [
    "Discharge records in River Mackenzie got some missing values (2922L in total, missing ~30), linear interpolation is applied to fix that."
   ]
  },
  {
   "cell_type": "code",
   "execution_count": 22,
   "metadata": {
    "collapsed": false
   },
   "outputs": [],
   "source": [
    "Le_discharge_name=glob.glob('../_data/Samples/River Discharge/RussiaRivers/*Lena*.mat')\n",
    "Le_discharge_obj=scipy.io.loadmat(Le_discharge_name[0])\n",
    "Ob_discharge_name=glob.glob('../_data/Samples/River Discharge/RussiaRivers/*Ob*.mat')\n",
    "Ob_discharge_obj=scipy.io.loadmat(Ob_discharge_name[0])\n",
    "Ye_discharge_name=glob.glob('../_data/Samples/River Discharge/RussiaRivers/*Yenisey*.mat')\n",
    "Ye_discharge_obj=scipy.io.loadmat(Ye_discharge_name[0])\n",
    "Ko_discharge_name=glob.glob('../_data/Samples/River Discharge/RussiaRivers/*Kolyma*.mat')\n",
    "Ko_discharge_obj=scipy.io.loadmat(Ko_discharge_name[0])\n",
    "Ma_discharge_name=glob.glob('../_data/Samples/River Discharge/Mackenzie/*Mackenzie*.mat')\n",
    "Ma_discharge_obj=scipy.io.loadmat(Ma_discharge_name[0])\n",
    "Yu_discharge_name=glob.glob('../_data/Samples/River Discharge/Yukon/*Yukon*.mat')\n",
    "Yu_discharge_obj=scipy.io.loadmat(Yu_discharge_name[0])"
   ]
  },
  {
   "cell_type": "code",
   "execution_count": 23,
   "metadata": {
    "collapsed": false
   },
   "outputs": [],
   "source": [
    "date_full = datenum2datetime(Ma_discharge_obj['time_full_selected'][:, 0])\n",
    "# discharge\n",
    "Lena_discharge_full=Le_discharge_obj['Lena_discharge_full'][:]\n",
    "Ob_discharge_full=Ob_discharge_obj['Ob_discharge_full'][:]\n",
    "Yenisey_discharge_full=Ye_discharge_obj['Yenisey_discharge_full'][:]\n",
    "Kolyma_discharge_full=Ko_discharge_obj['Kolyma_discharge_full'][:]\n",
    "Mackenzie_discharge_full=Ma_discharge_obj['Mackenzie_discharge_full'][:]\n",
    "Yukon_discharge_full=Yu_discharge_obj['Yukon_discharge_full'][:]"
   ]
  },
  {
   "cell_type": "code",
   "execution_count": 24,
   "metadata": {
    "collapsed": false
   },
   "outputs": [
    {
     "data": {
      "text/plain": [
       "False"
      ]
     },
     "execution_count": 24,
     "metadata": {},
     "output_type": "execute_result"
    }
   ],
   "source": [
    "date_full[0] == Lena_time[0]"
   ]
  },
  {
   "cell_type": "markdown",
   "metadata": {
    "collapsed": false
   },
   "source": [
    "# Check the seasonality"
   ]
  },
  {
   "cell_type": "markdown",
   "metadata": {},
   "source": [
    "*And the conclusion is no (weak) seasonality.*"
   ]
  },
  {
   "cell_type": "code",
   "execution_count": 25,
   "metadata": {
    "collapsed": true
   },
   "outputs": [],
   "source": [
    "Lena_d18O_seasonal     , _ = Nts.bin_season_cycle(Lena_time, Lena_d18O)\n",
    "Kolyma_d18O_seasonal   , _ = Nts.bin_season_cycle(Kolyma_time, Kolyma_d18O)\n",
    "Yenisey_d18O_seasonal  , _ = Nts.bin_season_cycle(Yenisey_time, Yenisey_d18O)\n",
    "Mackenzie_d18O_seasonal, _ = Nts.bin_season_cycle(Mackenzie_time, Mackenzie_d18O)\n",
    "Ob_d18O_seasonal       , _ = Nts.bin_season_cycle(Ob_time, Ob_d18O)\n",
    "Yukon_d18O_seasonal    , _ = Nts.bin_season_cycle(Yukon_time, Yukon_d18O)"
   ]
  },
  {
   "cell_type": "code",
   "execution_count": 26,
   "metadata": {
    "collapsed": true
   },
   "outputs": [],
   "source": [
    "t = np.arange(1, 13)"
   ]
  },
  {
   "cell_type": "code",
   "execution_count": 27,
   "metadata": {
    "collapsed": true
   },
   "outputs": [],
   "source": [
    "alld18O = np.empty([6, 12])\n",
    "alld18O[0, :] = Lena_d18O_seasonal/np.nanmean(Lena_d18O_seasonal)\n",
    "alld18O[1, :] = Kolyma_d18O_seasonal/np.nanmean(Kolyma_d18O_seasonal)\n",
    "alld18O[2, :] = Yenisey_d18O_seasonal/np.nanmean(Yenisey_d18O_seasonal)\n",
    "alld18O[3, :] = Mackenzie_d18O_seasonal/np.nanmean(Mackenzie_d18O_seasonal)\n",
    "alld18O[4, :] = Ob_d18O_seasonal/np.nanmean(Ob_d18O_seasonal)\n",
    "alld18O[5, :] = Yukon_d18O_seasonal/np.nanmean(Yukon_d18O_seasonal)"
   ]
  },
  {
   "cell_type": "code",
   "execution_count": 28,
   "metadata": {
    "collapsed": true
   },
   "outputs": [],
   "source": [
    "meand18O = np.nanmean(alld18O, 0); \n",
    "maxd18O  = np.nanmax(alld18O, 0); \n",
    "mind18O  = np.nanmin(alld18O, 0)\n",
    "#errbar   = (maxd18O-mind18O)/2; \n",
    "#errbar[mind18O==maxd18O]=np.nan\n",
    "#\n",
    "errbar = np.nanstd(alld18O, 0)\n",
    "errbar[errbar==0]=np.nan"
   ]
  },
  {
   "cell_type": "code",
   "execution_count": 29,
   "metadata": {
    "collapsed": false
   },
   "outputs": [
    {
     "data": {
      "text/plain": [
       "[<matplotlib.text.Text at 0x7f22e4f59a90>,\n",
       " <matplotlib.text.Text at 0x7f22e4f62950>,\n",
       " <matplotlib.text.Text at 0x7f22e4ea15d0>,\n",
       " <matplotlib.text.Text at 0x7f22e4ea1d50>,\n",
       " <matplotlib.text.Text at 0x7f22e4eab510>,\n",
       " <matplotlib.text.Text at 0x7f22e4eabc90>,\n",
       " <matplotlib.text.Text at 0x7f22e4e8a510>,\n",
       " <matplotlib.text.Text at 0x7f22e4eb49d0>,\n",
       " <matplotlib.text.Text at 0x7f22e4ebe190>,\n",
       " <matplotlib.text.Text at 0x7f22e4ebe910>,\n",
       " <matplotlib.text.Text at 0x7f22e4e480d0>,\n",
       " <matplotlib.text.Text at 0x7f22e4e48850>]"
      ]
     },
     "execution_count": 29,
     "metadata": {},
     "output_type": "execute_result"
    },
    {
     "data": {
      "image/png": "[encoded data removed]",
      "text/plain": [
       "<matplotlib.figure.Figure at 0x7f22e4fbf310>"
      ]
     },
     "metadata": {},
     "output_type": "display_data"
    }
   ],
   "source": [
    "fig = plt.figure(figsize=(13, 5))\n",
    "ax = fig.gca(); ax.grid()\n",
    "ax.plot(t, meand18O, '-', color='gray', linewidth=5, label='Scaled ensemble\\nmonmean d18O con.')\n",
    "ax.errorbar(t, meand18O, yerr=errbar, fmt='o', ms=12, mfc=RB, ecolor=RB, capthick=3, capsize=20, label='Std. dev.');\n",
    "ax.plot(t, alld18O[0, :].T, 'x', ms=6, mew=2, color='k', label = 'Lena');\n",
    "ax.plot(t, alld18O[1, :].T, '^', ms=6, mew=0.5, color='k', label = 'Kolyma');\n",
    "ax.plot(t, alld18O[2, :].T, '+', ms=8, mew=2, color='k', label = 'Yenisey');\n",
    "ax.plot(t, alld18O[4, :].T, '*', ms=8, mew=1, color='k', label = \"Ob'\");\n",
    "ax.plot(t, alld18O[3, :].T, '>', ms=6, mew=0.5, color='k', label = 'Mackenzie');\n",
    "ax.plot(t, alld18O[5, :].T, '<', ms=6, mew=0.5, color='k', label = 'Yukon');\n",
    "LG = ax.legend(numpoints=1, bbox_to_anchor=(1.01, 1), loc=2, borderaxespad=0.); LG.draw_frame(False)  \n",
    "ax.set_ylabel('The scale of d18O con.', fontsize=12)\n",
    "ax.set_xlim(0.5, 13); ax.set_ylim(0.75, 1.25)\n",
    "ax.set_xticks(range(1, 13)); ax.set_xticklabels(Mon)"
   ]
  },
  {
   "cell_type": "markdown",
   "metadata": {},
   "source": [
    "# Flow-weighted end member values"
   ]
  },
  {
   "cell_type": "code",
   "execution_count": 30,
   "metadata": {
    "collapsed": false
   },
   "outputs": [],
   "source": [
    "Lena_discharge = np.ones(len(Lena_time))\n",
    "Kolyma_discharge = np.ones(len(Kolyma_time))\n",
    "Yenisey_discharge = np.ones(len(Yenisey_time))\n",
    "Mackenzie_discharge = np.ones(len(Mackenzie_time))\n",
    "Ob_discharge = np.ones(len(Ob_time))\n",
    "Yukon_discharge = np.ones(len(Yukon_time))\n",
    "for j in range(len(date_full)):\n",
    "    for i1 in range(len(Lena_time)):\n",
    "        if date_full[j]==Lena_time[i1]:\n",
    "            Lena_discharge[i1] = Lena_discharge_full[j]\n",
    "    for i2 in range(len(Kolyma_time)):\n",
    "        if date_full[j]==Kolyma_time[i2]:\n",
    "            Kolyma_discharge[i2] = Kolyma_discharge_full[j]\n",
    "    for i3 in range(len(Yenisey_time)):\n",
    "        if date_full[j]==Yenisey_time[i3]:\n",
    "            Yenisey_discharge[i3] = Yenisey_discharge_full[j]\n",
    "    for i4 in range(len(Mackenzie_time)):\n",
    "        if date_full[j]==Mackenzie_time[i4]:\n",
    "            Mackenzie_discharge[i4] = Mackenzie_discharge_full[j]\n",
    "    for i5 in range(len(Ob_time)):\n",
    "        if date_full[j]==Ob_time[i5]:\n",
    "            Ob_discharge[i5] = Ob_discharge_full[j]\n",
    "    for i6 in range(len(Yukon_time)):\n",
    "        if date_full[j]==Yukon_time[i6]:\n",
    "            Yukon_discharge[i6] = Yukon_discharge_full[j]"
   ]
  },
  {
   "cell_type": "code",
   "execution_count": 31,
   "metadata": {
    "collapsed": false
   },
   "outputs": [],
   "source": [
    "FW_Lena      = np.sum(Lena_d18O     * Lena_discharge)     /np.sum(Lena_discharge)\n",
    "FW_Kolyma    = np.sum(Kolyma_d18O   * Kolyma_discharge)   /np.sum(Kolyma_discharge)\n",
    "FW_Yenisey   = np.sum(Yenisey_d18O  * Yenisey_discharge)  /np.sum(Yenisey_discharge)\n",
    "FW_Mackenzie = np.sum(Mackenzie_d18O* Mackenzie_discharge)/np.sum(Mackenzie_discharge)\n",
    "FW_Ob        = np.sum(Ob_d18O       * Ob_discharge)       /np.sum(Ob_discharge)\n",
    "FW_Yukon     = np.sum(Yukon_d18O    * Yukon_discharge)    /np.sum(Yukon_discharge)"
   ]
  },
  {
   "cell_type": "code",
   "execution_count": 32,
   "metadata": {
    "collapsed": true
   },
   "outputs": [],
   "source": [
    "import matplotlib.ticker as mtick"
   ]
  },
  {
   "cell_type": "code",
   "execution_count": 33,
   "metadata": {
    "collapsed": false
   },
   "outputs": [
    {
     "data": {
      "text/plain": [
       "<matplotlib.text.Text at 0x7f22e4af7690>"
      ]
     },
     "execution_count": 33,
     "metadata": {},
     "output_type": "execute_result"
    },
    {
     "data": {
      "image/png": "[encoded data removed]",
      "text/plain": [
       "<matplotlib.figure.Figure at 0x7f22e4dd5050>"
      ]
     },
     "metadata": {},
     "output_type": "display_data"
    }
   ],
   "source": [
    "fig, AX = mutifig6()\n",
    "for i in range(6):\n",
    "    AX[i].yaxis.get_major_formatter().set_powerlimits((0, 1))\n",
    "\n",
    "AX[0].plot(date_full, Lena_discharge_full, color=RB, lw=2.5)\n",
    "AX[0].plot(Lena_time, Lena_discharge, 'ko', color=EG)\n",
    "AX[0].set_ylim(-15000, 150000); \n",
    "AX[0].set_title('(a) Lena', fontsize=14)\n",
    "AX[0].tick_params(labelbottom='off') \n",
    "\n",
    "AX[1].plot(date_full, Kolyma_discharge_full, color=RB, lw=2.5, label='Discharge record')\n",
    "AX[1].plot(Kolyma_time, Kolyma_discharge, 'ko', color=EG, label='Flow-weighted points')\n",
    "AX[1].set_ylim(-5000, 50000); \n",
    "AX[1].set_title('(b) Kolyma', fontsize=14)\n",
    "AX[1].tick_params(labelbottom='off')\n",
    "LG = AX[1].legend(numpoints=1, bbox_to_anchor=(1.01, 1), loc=2, borderaxespad=0.); LG.draw_frame(False)\n",
    "\n",
    "AX[2].plot(date_full, Yenisey_discharge_full, color=RB, lw=2.5)\n",
    "AX[2].plot(Yenisey_time, Yenisey_discharge, 'ko', color=EG)\n",
    "AX[2].set_ylim(-18000, 180000); \n",
    "AX[2].set_title('(c) Yenisey', fontsize=14)\n",
    "AX[2].tick_params(labelbottom='off') \n",
    "\n",
    "AX[3].plot(date_full, Mackenzie_discharge_full, color=RB, lw=2.5)\n",
    "AX[3].plot(Mackenzie_time, Mackenzie_discharge, 'ko', color=EG)\n",
    "AX[3].set_ylim(-4000, 40000); \n",
    "AX[3].set_title('(d) Mackenzie', fontsize=14)\n",
    "AX[3].tick_params(labelbottom='off') \n",
    "\n",
    "AX[4].plot(date_full, Ob_discharge_full, color=RB, lw=2.5)\n",
    "AX[4].plot(Ob_time, Ob_discharge, 'ko', color=EG)\n",
    "AX[4].set_ylim(-5000, 50000); \n",
    "AX[4].set_title('(e) Ob', fontsize=14) \n",
    "\n",
    "AX[5].plot(date_full, Yukon_discharge_full, color=RB, lw=2.5)\n",
    "AX[5].plot(Yukon_time, Yukon_discharge, 'ko', color=EG)\n",
    "AX[5].set_ylim(-4000, 40000); \n",
    "AX[5].set_title('(f) Yukon', fontsize=14)"
   ]
  },
  {
   "cell_type": "code",
   "execution_count": 34,
   "metadata": {
    "collapsed": true
   },
   "outputs": [],
   "source": [
    "proxy_x = [1, 2, 3, 4, 5, 6, 7]\n",
    "proxy_xmid = [1.309, 2.309, 3.309, 4.309, 5.309, 6.309, 7.309]\n",
    "FW = [FW_Lena, FW_Kolyma, FW_Yenisey, FW_Mackenzie, FW_Ob, FW_Yukon, 0]\n",
    "YERR = [np.std(Lena_d18O), np.std(Kolyma_d18O), np.std(Yenisey_d18O), np.std(Mackenzie_d18O), np.std(Ob_d18O), np.std(Yukon_d18O), 0]\n",
    "river_name = ['Lena', 'Kolyma', 'Yenisey', 'Mackenzie', 'Ob', 'Yukon', 'Other rivers']"
   ]
  },
  {
   "cell_type": "code",
   "execution_count": 35,
   "metadata": {
    "collapsed": true
   },
   "outputs": [],
   "source": [
    "RB=[0.25, 0.41, 0.88]    # Royal blue"
   ]
  },
  {
   "cell_type": "code",
   "execution_count": 36,
   "metadata": {
    "collapsed": false
   },
   "outputs": [
    {
     "data": {
      "text/plain": [
       "-19.61243496997082"
      ]
     },
     "execution_count": 36,
     "metadata": {},
     "output_type": "execute_result"
    }
   ],
   "source": [
    "(FW[0]+FW[1]+FW[2]+FW[4])/4.0"
   ]
  },
  {
   "cell_type": "code",
   "execution_count": 37,
   "metadata": {
    "collapsed": false
   },
   "outputs": [
    {
     "data": {
      "text/plain": [
       "<matplotlib.text.Text at 0x7f22e4e7c250>"
      ]
     },
     "execution_count": 37,
     "metadata": {},
     "output_type": "execute_result"
    },
    {
     "data": {
      "image/png": "[encoded data removed]",
      "text/plain": [
       "<matplotlib.figure.Figure at 0x7f22ea747350>"
      ]
     },
     "metadata": {},
     "output_type": "display_data"
    }
   ],
   "source": [
    "fig = plt.figure(figsize=(8, 3))\n",
    "ax=fig.gca(); ax.invert_yaxis(); ax.set_ylim(0, -27.5); ax.set_xlim(0.5, 8.118)\n",
    "ax.bar(proxy_x, FW, color=RB, width=0.618, lw=2, alpha=0.85, label='$\\mathsf{\\delta^{18}O}$ in major rivers') \n",
    "ax.bar(7, -20, color=AM, width=0.618, lw=2, alpha=0.85, label='$\\mathsf{\\delta^{18}O}$ in other rivers')\n",
    "ax.errorbar(proxy_xmid, FW, yerr=YERR, fmt='o', ms=0, ecolor=SB, capthick=2, capsize=10, label='Std. dev.')\n",
    "LG = ax.legend(numpoints=1, bbox_to_anchor=(1.01, 1), loc=2, borderaxespad=0.); LG.draw_frame(False)\n",
    "ax.set_xticklabels(river_name); ax.set_xticks(proxy_xmid)\n",
    "ax.set_ylabel('Riverine $\\mathsf{\\delta^{18}O}$', fontsize=12) #‰\n",
    "#fig.savefig('_publish/FIG9.pdf', dpi=400, orientation='portrait', papertype='a4', format='pdf',\n",
    "#                bbox_inches='tight', pad_inches=0.1)"
   ]
  },
  {
   "cell_type": "code",
   "execution_count": 38,
   "metadata": {
    "collapsed": false
   },
   "outputs": [
    {
     "data": {
      "text/plain": [
       "[-21.593589381001678,\n",
       " -22.670210292818719,\n",
       " -18.321402085025127,\n",
       " -19.768509792079428,\n",
       " -15.864538121037752,\n",
       " -20.729173999657977,\n",
       " 0]"
      ]
     },
     "execution_count": 38,
     "metadata": {},
     "output_type": "execute_result"
    }
   ],
   "source": [
    "FW"
   ]
  },
  {
   "cell_type": "code",
   "execution_count": 41,
   "metadata": {
    "collapsed": false
   },
   "outputs": [
    {
     "data": {
      "text/plain": [
       "array([ 229.5 ,   43.35,   79.05])"
      ]
     },
     "execution_count": 41,
     "metadata": {},
     "output_type": "execute_result"
    }
   ],
   "source": [
    "np.array([0.90, 0.17, 0.31])*255"
   ]
  },
  {
   "cell_type": "markdown",
   "metadata": {},
   "source": [
    "**Yamamoto-Kawai (2005)**"
   ]
  },
  {
   "cell_type": "markdown",
   "metadata": {
    "collapsed": true
   },
   "source": [
    "<img src=\"_figures/d18O_Yamamoto.PNG\" width=650 align=\"left\"/>"
   ]
  },
  {
   "cell_type": "markdown",
   "metadata": {},
   "source": [
    "# Use discharge division to set end-member values"
   ]
  },
  {
   "cell_type": "code",
   "execution_count": 28,
   "metadata": {
    "collapsed": true
   },
   "outputs": [],
   "source": [
    "MAT=scipy.io.loadmat('_data/Backup/River_class_ORCA2.mat')\n",
    "lon = MAT['lon_i']\n",
    "lat = MAT['lat_i']\n",
    "Class = MAT['River_class_i']\n",
    "Class_masked =np.ma.masked_where(np.isnan(Class), Class)"
   ]
  },
  {
   "cell_type": "code",
   "execution_count": 30,
   "metadata": {
    "collapsed": false
   },
   "outputs": [
    {
     "name": "stdout",
     "output_type": "stream",
     "text": [
      "found file: \n",
      "['_data/Exchange\\\\coordinates.nc']\n"
     ]
    }
   ],
   "source": [
    "coordinate_name=glob.glob('_data/Exchange/coordinates*.nc')\n",
    "print(\"found file: \\n{}\".format(coordinate_name))\n",
    "coordinate_obj=nc.Dataset(coordinate_name[0])\n",
    "nav_lon=coordinate_obj.variables['nav_lon'][:]\n",
    "nav_lat=coordinate_obj.variables['nav_lat'][:]"
   ]
  },
  {
   "cell_type": "code",
   "execution_count": 35,
   "metadata": {
    "collapsed": false
   },
   "outputs": [],
   "source": [
    "Class_interp = reporj_NEMOgrid(lon, lat, Class, nav_lon, nav_lat, method='nearest')\n",
    "Class_range = reporj_NEMOgrid(lon, lat, Class, nav_lon, nav_lat, method='linear')\n",
    "Class_interp[np.isnan(Class_range)] = np.nan\n",
    "Class_masked = np.ma.masked_where(np.isnan(Class_interp), Class_interp)"
   ]
  },
  {
   "cell_type": "code",
   "execution_count": 38,
   "metadata": {
    "collapsed": true
   },
   "outputs": [],
   "source": [
    "d18O_ORCA2_2deg = np.ones([12, 149, 182])*-19.0"
   ]
  },
  {
   "cell_type": "code",
   "execution_count": 39,
   "metadata": {
    "collapsed": false
   },
   "outputs": [],
   "source": [
    "for i in range(12):\n",
    "    temp = d18O_ORCA2_2deg[i, :, :]\n",
    "    temp[Class_interp==7] = FW_Mackenzie\n",
    "    temp[Class_interp==8] = FW_Yukon\n",
    "    temp[Class_interp==9] = FW_Kolyma\n",
    "    temp[Class_interp==12] = FW_Lena\n",
    "    temp[Class_interp==16] = FW_Yenisey\n",
    "    temp[Class_interp==17] = FW_Ob\n",
    "    d18O_ORCA2_2deg[i, :, :] = temp"
   ]
  },
  {
   "cell_type": "code",
   "execution_count": 42,
   "metadata": {
    "collapsed": true
   },
   "outputs": [],
   "source": [
    "save_var = {'nav_lon': nav_lon, 'nav_lat': nav_lat, 'd18O_ORCA2_2deg': d18O_ORCA2_2deg}\n",
    "scipy.io.savemat('_data/Exchange/d18O_ORCA2_SRC.mat', mdict=save_var)"
   ]
  },
  {
   "cell_type": "markdown",
   "metadata": {},
   "source": [
    "**ANHA4**"
   ]
  },
  {
   "cell_type": "code",
   "execution_count": 29,
   "metadata": {
    "collapsed": true
   },
   "outputs": [],
   "source": [
    "ANHA4_MAT=scipy.io.loadmat('_data/Exchange/coord_ANHA4.mat')\n",
    "ANHA4_lon=ANHA4_MAT['nav_lon']\n",
    "ANHA4_lat=ANHA4_MAT['nav_lat']"
   ]
  },
  {
   "cell_type": "code",
   "execution_count": 30,
   "metadata": {
    "collapsed": true
   },
   "outputs": [],
   "source": [
    "lon = MAT['lon_c']\n",
    "lat = MAT['lat_c']\n",
    "Class = MAT['River_class_c']"
   ]
  },
  {
   "cell_type": "code",
   "execution_count": 31,
   "metadata": {
    "collapsed": true
   },
   "outputs": [],
   "source": [
    "Class_interp = reporj_NEMOgrid(lon, lat, Class, ANHA4_lon, ANHA4_lat, method='nearest')\n",
    "Class_range = reporj_NEMOgrid(lon, lat, Class, ANHA4_lon, ANHA4_lat, method='linear')\n",
    "Class_interp[np.isnan(Class_range)] = np.nan\n",
    "#Class_masked = np.ma.masked_where(np.isnan(Class_interp), Class_interp)"
   ]
  },
  {
   "cell_type": "code",
   "execution_count": 32,
   "metadata": {
    "collapsed": true
   },
   "outputs": [],
   "source": [
    "d18O_ANHA4 = np.ones([12, 544, 800])*-19.0"
   ]
  },
  {
   "cell_type": "code",
   "execution_count": 33,
   "metadata": {
    "collapsed": true
   },
   "outputs": [],
   "source": [
    "for i in range(12):\n",
    "    temp = d18O_ANHA4[i, :, :]\n",
    "    temp[Class_interp==7] = FW_Mackenzie\n",
    "    temp[Class_interp==8] = FW_Yukon\n",
    "    temp[Class_interp==9] = FW_Kolyma\n",
    "    temp[Class_interp==12] = FW_Lena\n",
    "    temp[Class_interp==16] = FW_Yenisey\n",
    "    temp[Class_interp==17] = FW_Ob\n",
    "    d18O_ANHA4[i, :, :] = temp"
   ]
  },
  {
   "cell_type": "code",
   "execution_count": 35,
   "metadata": {
    "collapsed": false
   },
   "outputs": [],
   "source": [
    "save_var = {'nav_lon': ANHA4_lon, 'nav_lat': ANHA4_lat, 'd18O_ANHA4': d18O_ANHA4}\n",
    "scipy.io.savemat('_data/Exchange/d18O_ANHA4_SRC.mat', mdict=save_var)"
   ]
  },
  {
   "cell_type": "code",
   "execution_count": null,
   "metadata": {
    "collapsed": true
   },
   "outputs": [],
   "source": []
  }
 ],
 "metadata": {
  "kernelspec": {
   "display_name": "Python 2",
   "language": "python",
   "name": "python2"
  },
  "language_info": {
   "codemirror_mode": {
    "name": "ipython",
    "version": 2
   },
   "file_extension": ".py",
   "mimetype": "text/x-python",
   "name": "python",
   "nbconvert_exporter": "python",
   "pygments_lexer": "ipython2",
   "version": "2.7.12"
  }
 },
 "nbformat": 4,
 "nbformat_minor": 0
}
