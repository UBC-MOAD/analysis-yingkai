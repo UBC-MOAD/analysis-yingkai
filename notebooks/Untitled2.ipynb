{
 "cells": [
  {
   "cell_type": "code",
   "execution_count": 1,
   "metadata": {
    "collapsed": false
   },
   "outputs": [],
   "source": [
    "import numpy as np\n",
    "import os\n",
    "import Ngl"
   ]
  },
  {
   "cell_type": "code",
   "execution_count": 2,
   "metadata": {
    "collapsed": false
   },
   "outputs": [],
   "source": [
    "va = np.ones([180, 360])\n",
    "ua = np.ones([180, 360])\n",
    "lon = np.linspace(0, 360, 360)\n",
    "lat = np.linspace(-90, 90, 180)"
   ]
  },
  {
   "cell_type": "code",
   "execution_count": 10,
   "metadata": {
    "collapsed": false
   },
   "outputs": [],
   "source": [
    "wks_type = \"png\"\n",
    "wks = Ngl.open_wks(wks_type,\"myplot3\")\n",
    "\n",
    "resources = Ngl.Resources()\n",
    "\n",
    "resources.vcMinFracLengthF = 0.33\n",
    "resources.vcRefMagnitudeF  = 20.0\n",
    "resources.vcRefLengthF     = 0.045\n",
    "resources.vcMonoLineArrowColor  = False   # Draw vectors in color.\n",
    "resources.vfXCStartV  = float(lon[0])             # Define X/Y axes range\n",
    "resources.vfXCEndV    = float(lon[len(lon[:])-1]) # for vector plot.\n",
    "resources.vfYCStartV  = float(lat[0])\n",
    "resources.vfYCEndV    = float(lat[len(lat[:])-1])\n",
    "resources.tiMainString  = \"~F22~wind velocity vectors - January 1996\"\n",
    "resources.tiXAxisString = \"longitude\"\n",
    "resources.tiYAxisString = \"latitude\"\n",
    "\n",
    "vc = Ngl.vector(wks,ua,va,resources)\n",
    "#"
   ]
  },
  {
   "cell_type": "code",
   "execution_count": null,
   "metadata": {
    "collapsed": true
   },
   "outputs": [],
   "source": []
  }
 ],
 "metadata": {
  "kernelspec": {
   "display_name": "Python 2",
   "language": "python",
   "name": "python2"
  },
  "language_info": {
   "codemirror_mode": {
    "name": "ipython",
    "version": 2
   },
   "file_extension": ".py",
   "mimetype": "text/x-python",
   "name": "python",
   "nbconvert_exporter": "python",
   "pygments_lexer": "ipython2",
   "version": "2.7.12"
  }
 },
 "nbformat": 4,
 "nbformat_minor": 0
}
